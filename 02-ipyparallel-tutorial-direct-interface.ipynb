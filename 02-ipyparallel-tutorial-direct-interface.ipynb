{
 "cells": [
  {
   "cell_type": "markdown",
   "metadata": {
    "toc": "true"
   },
   "source": [
    "# Table of Contents\n",
    " <p><div class=\"lev1\"><a href=\"#IPython’s-Direct-interface\"><span class=\"toc-item-num\">1&nbsp;&nbsp;</span>IPython’s Direct interface</a></div><div class=\"lev2\"><a href=\"#Starting-the-IPython-controller-and-engines\"><span class=\"toc-item-num\">1.1&nbsp;&nbsp;</span>Starting the IPython controller and engines</a></div><div class=\"lev2\"><a href=\"#Creating-a-DirectView-instance\"><span class=\"toc-item-num\">1.2&nbsp;&nbsp;</span>Creating a <code>DirectView</code> instance</a></div><div class=\"lev2\"><a href=\"#Quick-and-easy-parallelism\"><span class=\"toc-item-num\">1.3&nbsp;&nbsp;</span>Quick and easy parallelism</a></div><div class=\"lev3\"><a href=\"#Parallel-map\"><span class=\"toc-item-num\">1.3.1&nbsp;&nbsp;</span>Parallel map</a></div><div class=\"lev3\"><a href=\"#Remote-function-decorators\"><span class=\"toc-item-num\">1.3.2&nbsp;&nbsp;</span>Remote function decorators</a></div><div class=\"lev2\"><a href=\"#Calling-Python-functions\"><span class=\"toc-item-num\">1.4&nbsp;&nbsp;</span>Calling Python functions</a></div><div class=\"lev3\"><a href=\"#apply\"><span class=\"toc-item-num\">1.4.1&nbsp;&nbsp;</span>apply</a></div><div class=\"lev3\"><a href=\"#Blocking-execution\"><span class=\"toc-item-num\">1.4.2&nbsp;&nbsp;</span>Blocking execution</a></div><div class=\"lev3\"><a href=\"#Non-blocking-execution\"><span class=\"toc-item-num\">1.4.3&nbsp;&nbsp;</span>Non-blocking execution</a></div><div class=\"lev3\"><a href=\"#The-block-and-targets-keyword-arguments-and-attributes\"><span class=\"toc-item-num\">1.4.4&nbsp;&nbsp;</span>The block and targets keyword arguments and attributes</a></div><div class=\"lev2\"><a href=\"#Moving-Python-objects-around\"><span class=\"toc-item-num\">1.5&nbsp;&nbsp;</span>Moving Python objects around</a></div><div class=\"lev3\"><a href=\"#basic-push-and-pull\"><span class=\"toc-item-num\">1.5.1&nbsp;&nbsp;</span>basic push and pull</a></div><div class=\"lev3\"><a href=\"#Dictionary-interface\"><span class=\"toc-item-num\">1.5.2&nbsp;&nbsp;</span>Dictionary interface</a></div><div class=\"lev3\"><a href=\"#Scatter-and-gather\"><span class=\"toc-item-num\">1.5.3&nbsp;&nbsp;</span>Scatter and gather</a></div><div class=\"lev3\"><a href=\"#AsyncResults-have-metadata\"><span class=\"toc-item-num\">1.5.4&nbsp;&nbsp;</span>AsyncResults have metadata</a></div><div class=\"lev2\"><a href=\"#Other-things-to-look-at\"><span class=\"toc-item-num\">1.6&nbsp;&nbsp;</span>Other things to look at</a></div><div class=\"lev3\"><a href=\"#How-to-do-parallel-list-comprehensions\"><span class=\"toc-item-num\">1.6.1&nbsp;&nbsp;</span>How to do parallel list comprehensions</a></div><div class=\"lev3\"><a href=\"#Remote-imports\"><span class=\"toc-item-num\">1.6.2&nbsp;&nbsp;</span>Remote imports</a></div><div class=\"lev3\"><a href=\"#Parallel-exceptions\"><span class=\"toc-item-num\">1.6.3&nbsp;&nbsp;</span>Parallel exceptions</a></div><div class=\"lev2\"><a href=\"#example:-monte-carlo-approximation-of-pi\"><span class=\"toc-item-num\">1.7&nbsp;&nbsp;</span>example: monte carlo approximation of pi</a></div>"
   ]
  },
  {
   "cell_type": "markdown",
   "metadata": {},
   "source": [
    "# IPython’s Direct interface"
   ]
  },
  {
   "cell_type": "markdown",
   "metadata": {},
   "source": [
    "The direct, or multiengine, interface represents one possible way of working with a set of IPython engines. The basic idea behind the multiengine interface is that the capabilities of each engine are directly and explicitly exposed to the user. Thus, in the multiengine interface, each engine is given an id that is used to identify the engine and give it work to do. This interface is very intuitive and is designed with interactive usage in mind, and is the best place for new users of IPython to begin."
   ]
  },
  {
   "cell_type": "markdown",
   "metadata": {},
   "source": [
    "## Starting the IPython controller and engines"
   ]
  },
  {
   "cell_type": "markdown",
   "metadata": {},
   "source": [
    "To follow along with this tutorial, you will need to start the IPython\n",
    "controller and four IPython engines. The simplest way of doing this is to use\n",
    "the `ipcluster`:\n",
    "\n",
    "    $ ipcluster start --n=4 --profile='direct-view'\n",
    "\n",
    "The name of the profile is of no importance. But I advise to use different names for different notebooks: this lessens the amount of possible confusion of which cluster is running the jobs for which notebook."
   ]
  },
  {
   "cell_type": "markdown",
   "metadata": {
    "ExecuteTime": {
     "end_time": "2017-04-05T10:03:02.803333",
     "start_time": "2017-04-05T12:03:02.799324+02:00"
    }
   },
   "source": [
    "## Creating a ```DirectView``` instance"
   ]
  },
  {
   "cell_type": "markdown",
   "metadata": {},
   "source": [
    "The first step is to import the IPython ```ipyparallel``` module and then create a Client instance:\n",
    "\n"
   ]
  },
  {
   "cell_type": "code",
   "execution_count": 1,
   "metadata": {
    "ExecuteTime": {
     "end_time": "2017-04-05T14:50:55.194471",
     "start_time": "2017-04-05T16:50:55.166096+02:00"
    },
    "collapsed": false
   },
   "outputs": [],
   "source": [
    "from ipyparallel import Client\n",
    "rc = Client(profile='direct-view')"
   ]
  },
  {
   "cell_type": "markdown",
   "metadata": {},
   "source": [
    "To make sure there are engines connected to the controller, users can get a list of engine ids:"
   ]
  },
  {
   "cell_type": "code",
   "execution_count": 2,
   "metadata": {
    "ExecuteTime": {
     "end_time": "2017-04-05T14:50:55.234069",
     "start_time": "2017-04-05T16:50:55.197578+02:00"
    },
    "collapsed": false
   },
   "outputs": [
    {
     "data": {
      "text/plain": [
       "[0, 1, 2, 3]"
      ]
     },
     "execution_count": 2,
     "metadata": {},
     "output_type": "execute_result"
    }
   ],
   "source": [
    "rc.ids"
   ]
  },
  {
   "cell_type": "markdown",
   "metadata": {},
   "source": [
    "Here we see that there are four engines ready to do work for us.\n",
    "\n",
    "For direct execution, we will make use of a ``DirectView`` object, which can be constructed via list-access to the client:"
   ]
  },
  {
   "cell_type": "code",
   "execution_count": 3,
   "metadata": {
    "ExecuteTime": {
     "end_time": "2017-04-05T14:50:55.275384",
     "start_time": "2017-04-05T16:50:55.237972+02:00"
    },
    "collapsed": true
   },
   "outputs": [],
   "source": [
    "dview = rc[:] # use all engines"
   ]
  },
  {
   "cell_type": "markdown",
   "metadata": {},
   "source": [
    "For more information, see the in-depth explanation of Views:\n",
    "\n",
    "http://ipyparallel.readthedocs.io/en/6.0.2/details.html#parallel-details"
   ]
  },
  {
   "cell_type": "markdown",
   "metadata": {},
   "source": [
    "## Quick and easy parallelism"
   ]
  },
  {
   "cell_type": "markdown",
   "metadata": {},
   "source": [
    "In many cases, you simply want to apply a Python function to a sequence of\n",
    "objects, but *in parallel*. The client interface provides a simple way\n",
    "of accomplishing this: using the DirectView's `DirectView.map` method."
   ]
  },
  {
   "cell_type": "markdown",
   "metadata": {},
   "source": [
    "### Parallel map\n"
   ]
  },
  {
   "cell_type": "markdown",
   "metadata": {},
   "source": [
    "Python’s builtin ``map()`` functions allows a function to be applied to a sequence element-by-element. This type of code is typically trivial to parallelize. In fact, since IPython’s interface is all about functions anyway, you can just use the builtin ``map()`` with a ``RemoteFunction``, or a DirectView’s ``map()`` method:"
   ]
  },
  {
   "cell_type": "code",
   "execution_count": 4,
   "metadata": {
    "ExecuteTime": {
     "end_time": "2017-04-05T14:50:55.305341",
     "start_time": "2017-04-05T16:50:55.278667+02:00"
    },
    "collapsed": false
   },
   "outputs": [],
   "source": [
    "serial_result = list(map(lambda x:x**10, range(32)))"
   ]
  },
  {
   "cell_type": "code",
   "execution_count": 5,
   "metadata": {
    "ExecuteTime": {
     "end_time": "2017-04-05T14:50:55.696837",
     "start_time": "2017-04-05T16:50:55.307924+02:00"
    },
    "collapsed": false
   },
   "outputs": [],
   "source": [
    "parallel_result = dview.map_sync(lambda x:x**10, range(32))"
   ]
  },
  {
   "cell_type": "code",
   "execution_count": 6,
   "metadata": {
    "ExecuteTime": {
     "end_time": "2017-04-05T14:50:55.707854",
     "start_time": "2017-04-05T16:50:55.702020+02:00"
    },
    "collapsed": false
   },
   "outputs": [
    {
     "data": {
      "text/plain": [
       "True"
      ]
     },
     "execution_count": 6,
     "metadata": {},
     "output_type": "execute_result"
    }
   ],
   "source": [
    "serial_result==parallel_result"
   ]
  },
  {
   "cell_type": "markdown",
   "metadata": {},
   "source": [
    "### Remote function decorators"
   ]
  },
  {
   "cell_type": "markdown",
   "metadata": {},
   "source": [
    "Remote functions are just like normal functions, but when they are called, they execute on one or more engines, rather than locally. IPython provides two decorators:"
   ]
  },
  {
   "cell_type": "code",
   "execution_count": 7,
   "metadata": {
    "ExecuteTime": {
     "end_time": "2017-04-05T14:50:55.748104",
     "start_time": "2017-04-05T16:50:55.711652+02:00"
    },
    "collapsed": true
   },
   "outputs": [],
   "source": [
    "@dview.remote(block=True)\n",
    "def getpid():\n",
    "    '''\n",
    "    import library os and return the process number (pid) corresponding with\n",
    "    the execution\n",
    "    '''\n",
    "    import os\n",
    "    return os.getpid()"
   ]
  },
  {
   "cell_type": "code",
   "execution_count": 8,
   "metadata": {
    "ExecuteTime": {
     "end_time": "2017-04-05T14:50:55.790892",
     "start_time": "2017-04-05T16:50:55.751559+02:00"
    },
    "collapsed": false
   },
   "outputs": [
    {
     "data": {
      "text/plain": [
       "[16623, 16624, 16625, 16627]"
      ]
     },
     "execution_count": 8,
     "metadata": {},
     "output_type": "execute_result"
    }
   ],
   "source": [
    "getpid()"
   ]
  },
  {
   "cell_type": "markdown",
   "metadata": {},
   "source": [
    "The ``@parallel`` decorator creates parallel functions, that break up an element-wise operations and distribute them, reconstructing the result."
   ]
  },
  {
   "cell_type": "code",
   "execution_count": 9,
   "metadata": {
    "ExecuteTime": {
     "end_time": "2017-04-05T14:50:55.799975",
     "start_time": "2017-04-05T16:50:55.794659+02:00"
    },
    "collapsed": false
   },
   "outputs": [],
   "source": [
    "import numpy as np\n",
    "A = np.random.random((64,48))"
   ]
  },
  {
   "cell_type": "code",
   "execution_count": 10,
   "metadata": {
    "ExecuteTime": {
     "end_time": "2017-04-05T14:50:55.813828",
     "start_time": "2017-04-05T16:50:55.803152+02:00"
    },
    "collapsed": true
   },
   "outputs": [],
   "source": [
    "@dview.parallel(block=True)\n",
    "def pmul(A,B):\n",
    "    return A*B"
   ]
  },
  {
   "cell_type": "code",
   "execution_count": 11,
   "metadata": {
    "ExecuteTime": {
     "end_time": "2017-04-05T14:50:55.829145",
     "start_time": "2017-04-05T16:50:55.823759+02:00"
    },
    "collapsed": true
   },
   "outputs": [],
   "source": [
    "C_local = A*A"
   ]
  },
  {
   "cell_type": "code",
   "execution_count": 12,
   "metadata": {
    "ExecuteTime": {
     "end_time": "2017-04-05T14:50:55.913229",
     "start_time": "2017-04-05T16:50:55.833204+02:00"
    },
    "collapsed": true
   },
   "outputs": [],
   "source": [
    "C_remote = pmul(A,A)"
   ]
  },
  {
   "cell_type": "code",
   "execution_count": 13,
   "metadata": {
    "ExecuteTime": {
     "end_time": "2017-04-05T14:50:55.932466",
     "start_time": "2017-04-05T16:50:55.920773+02:00"
    },
    "collapsed": false
   },
   "outputs": [
    {
     "data": {
      "text/plain": [
       "True"
      ]
     },
     "execution_count": 13,
     "metadata": {},
     "output_type": "execute_result"
    }
   ],
   "source": [
    "(C_local == C_remote).all()"
   ]
  },
  {
   "cell_type": "markdown",
   "metadata": {},
   "source": [
    "Calling a ``@parallel`` function does not correspond to map. It is used for splitting element-wise operations that operate on a sequence or array. For ``map`` behaviour, parallel functions do have a map method.\n",
    "\n",
    "|call                |    pfunc(seq)                 |     pfunc.map(seq)\n",
    "|--------------------|-------------------------------|-------------------------------\n",
    "|# of tasks          |    # of engines (1 per engine)|     # of engines (1 per engine)\n",
    "|# of remote calls   |    # of engines (1 per engine)|     ``len(seq)``\n",
    "|argument to remote  |    ``seq[i:j]`` (sub-sequence)|     ``seq[i]`` (single element)\n",
    "\n",
    "A quick example to illustrate the difference in arguments for the two modes:"
   ]
  },
  {
   "cell_type": "code",
   "execution_count": 14,
   "metadata": {
    "ExecuteTime": {
     "end_time": "2017-04-05T14:50:55.952852",
     "start_time": "2017-04-05T16:50:55.939045+02:00"
    },
    "collapsed": true
   },
   "outputs": [],
   "source": [
    "@dview.parallel(block=True)\n",
    "def echo(x):\n",
    "     return str(x)"
   ]
  },
  {
   "cell_type": "code",
   "execution_count": 15,
   "metadata": {
    "ExecuteTime": {
     "end_time": "2017-04-05T14:50:56.027852",
     "start_time": "2017-04-05T16:50:55.960104+02:00"
    },
    "collapsed": false
   },
   "outputs": [
    {
     "data": {
      "text/plain": [
       "['range(0, 2)', 'range(2, 3)', 'range(3, 4)', 'range(4, 5)']"
      ]
     },
     "execution_count": 15,
     "metadata": {},
     "output_type": "execute_result"
    }
   ],
   "source": [
    "echo(range(5))"
   ]
  },
  {
   "cell_type": "code",
   "execution_count": 16,
   "metadata": {
    "ExecuteTime": {
     "end_time": "2017-04-05T14:50:56.098992",
     "start_time": "2017-04-05T16:50:56.036064+02:00"
    },
    "collapsed": false
   },
   "outputs": [
    {
     "data": {
      "text/plain": [
       "['0', '1', '2', '3', '4']"
      ]
     },
     "execution_count": 16,
     "metadata": {},
     "output_type": "execute_result"
    }
   ],
   "source": [
    "echo.map(range(5))"
   ]
  },
  {
   "cell_type": "markdown",
   "metadata": {
    "collapsed": true
   },
   "source": [
    "## Calling Python functions"
   ]
  },
  {
   "cell_type": "markdown",
   "metadata": {},
   "source": [
    "The most basic type of operation that can be performed on the engines is to execute Python code or call Python functions. Executing Python code can be done in blocking or non-blocking mode (non-blocking is default) using the ``View.execute()`` method, and calling functions can be done via the ``View.apply()`` method."
   ]
  },
  {
   "cell_type": "markdown",
   "metadata": {},
   "source": [
    "### apply"
   ]
  },
  {
   "cell_type": "markdown",
   "metadata": {},
   "source": [
    "The main method for doing remote execution (in fact, all methods that communicate with the engines are built on top of it), is ``View.apply()``.\n",
    "\n",
    "```\n",
    "view.apply(f, *args, **kwargs)\n",
    "```\n",
    "\n",
    "available methods:"
   ]
  },
  {
   "cell_type": "code",
   "execution_count": 17,
   "metadata": {
    "ExecuteTime": {
     "end_time": "2017-04-05T14:50:56.114569",
     "start_time": "2017-04-05T16:50:56.104344+02:00"
    },
    "collapsed": false
   },
   "outputs": [
    {
     "data": {
      "text/plain": [
       "['apply', 'apply_async', 'apply_sync']"
      ]
     },
     "execution_count": 17,
     "metadata": {},
     "output_type": "execute_result"
    }
   ],
   "source": [
    "[x for x in dir(dview) if x.startswith('apply')]"
   ]
  },
  {
   "cell_type": "markdown",
   "metadata": {},
   "source": [
    "There are various ways to call functions with IPython, and these flags are set as attributes of the View. The ``DirectView`` has just two of these flags:\n",
    "\n",
    "**dv.block**\n",
    "\n",
    ": bool\n",
    "\n",
    "    whether to wait for the result, or return an AsyncResult object immediately\n",
    "    \n",
    "**dv.track**\n",
    "\n",
    ": bool\n",
    "\n",
    "    whether to instruct pyzmq to track when zeromq is done sending the message. This is primarily useful for non-copying sends of numpy arrays that you plan to edit in-place. You need to know when it becomes safe to edit the buffer without corrupting the message.\n",
    "    \n",
    "**dv.targets**\n",
    "\n",
    ": int, list of ints\n",
    "\n",
    "    which targets this view is associated with."
   ]
  },
  {
   "cell_type": "markdown",
   "metadata": {},
   "source": [
    "### Blocking execution"
   ]
  },
  {
   "cell_type": "markdown",
   "metadata": {},
   "source": [
    "In blocking mode, the ``DirectView`` object (called ``dview`` in these examples) submits the command to the controller, which places the command in the engines’ queues for execution. The ``apply()`` call then blocks until the engines are done executing the command:"
   ]
  },
  {
   "cell_type": "code",
   "execution_count": 18,
   "metadata": {
    "ExecuteTime": {
     "end_time": "2017-04-05T14:50:56.271235",
     "start_time": "2017-04-05T16:50:56.120416+02:00"
    },
    "collapsed": false
   },
   "outputs": [
    {
     "data": {
      "text/plain": [
       "[42, 42, 42, 42]"
      ]
     },
     "execution_count": 18,
     "metadata": {},
     "output_type": "execute_result"
    }
   ],
   "source": [
    "# A DirectView of all engines\n",
    "# in comment, because we did this in the beginning of this notebook\n",
    "#dview = rc[:]\n",
    "dview.block = True\n",
    "dview['a'] = 5\n",
    "dview['b'] = 10\n",
    "dview.apply(lambda x: a+b+x, 27)"
   ]
  },
  {
   "cell_type": "markdown",
   "metadata": {},
   "source": [
    "You can also select blocking execution on a call-by-call basis with the ``apply_sync()`` method:"
   ]
  },
  {
   "cell_type": "code",
   "execution_count": 19,
   "metadata": {
    "ExecuteTime": {
     "end_time": "2017-04-05T14:50:56.309099",
     "start_time": "2017-04-05T16:50:56.275040+02:00"
    },
    "collapsed": false
   },
   "outputs": [
    {
     "data": {
      "text/plain": [
       "[42, 42, 42, 42]"
      ]
     },
     "execution_count": 19,
     "metadata": {},
     "output_type": "execute_result"
    }
   ],
   "source": [
    "dview.block = False\n",
    "dview.apply_sync(lambda x: a+b+x, 27)"
   ]
  },
  {
   "cell_type": "markdown",
   "metadata": {},
   "source": [
    "Python commands can be executed as strings on specific engines by using a View’s ``execute`` method:\n",
    "\n",
    "**check how the view are generated on the Client object (rc) !**"
   ]
  },
  {
   "cell_type": "code",
   "execution_count": 20,
   "metadata": {
    "ExecuteTime": {
     "end_time": "2017-04-05T14:50:56.339997",
     "start_time": "2017-04-05T16:50:56.315489+02:00"
    },
    "collapsed": false
   },
   "outputs": [
    {
     "data": {
      "text/plain": [
       "<AsyncResult: execute>"
      ]
     },
     "execution_count": 20,
     "metadata": {},
     "output_type": "execute_result"
    }
   ],
   "source": [
    "rc[::2].execute('c=a+b')"
   ]
  },
  {
   "cell_type": "code",
   "execution_count": 21,
   "metadata": {
    "ExecuteTime": {
     "end_time": "2017-04-05T14:50:56.363298",
     "start_time": "2017-04-05T16:50:56.349467+02:00"
    },
    "collapsed": false
   },
   "outputs": [
    {
     "data": {
      "text/plain": [
       "<AsyncResult: execute>"
      ]
     },
     "execution_count": 21,
     "metadata": {},
     "output_type": "execute_result"
    }
   ],
   "source": [
    "rc[1::2].execute('c=a-b')"
   ]
  },
  {
   "cell_type": "code",
   "execution_count": 22,
   "metadata": {
    "ExecuteTime": {
     "end_time": "2017-04-05T14:50:56.448285",
     "start_time": "2017-04-05T16:50:56.365706+02:00"
    },
    "collapsed": false
   },
   "outputs": [
    {
     "data": {
      "text/plain": [
       "[15, -5, 15, -5]"
      ]
     },
     "execution_count": 22,
     "metadata": {},
     "output_type": "execute_result"
    }
   ],
   "source": [
    "dview['c'] # shorthand for dview.pull('c', block=True)"
   ]
  },
  {
   "cell_type": "markdown",
   "metadata": {},
   "source": [
    "### Non-blocking execution\n",
    "\n"
   ]
  },
  {
   "cell_type": "markdown",
   "metadata": {},
   "source": [
    "In non-blocking mode, ``apply()`` submits the command to be executed and then returns a ``AsyncResult`` object immediately. The ``AsyncResult`` object gives you a way of getting a result at a later time through its ``get()`` method.\n",
    "\n",
    "More info on the ``AsyncResult`` object:\n",
    "http://ipyparallel.readthedocs.io/en/6.0.2/asyncresult.html#parallel-asyncresult\n",
    "\n",
    "This allows you to quickly submit long running commands without blocking your local Python/IPython session:"
   ]
  },
  {
   "cell_type": "code",
   "execution_count": 23,
   "metadata": {
    "ExecuteTime": {
     "end_time": "2017-04-05T14:50:56.477420",
     "start_time": "2017-04-05T16:50:56.463833+02:00"
    },
    "collapsed": true
   },
   "outputs": [],
   "source": [
    "# define our function\n",
    "def wait(t):\n",
    "    import time\n",
    "    tic = time.time()\n",
    "    time.sleep(t)\n",
    "    return time.time()-tic"
   ]
  },
  {
   "cell_type": "code",
   "execution_count": 24,
   "metadata": {
    "ExecuteTime": {
     "end_time": "2017-04-05T14:50:56.516735",
     "start_time": "2017-04-05T16:50:56.485102+02:00"
    },
    "collapsed": true
   },
   "outputs": [],
   "source": [
    "# In non-blocking mode\n",
    "ar = dview.apply_async(wait, 2)"
   ]
  },
  {
   "cell_type": "code",
   "execution_count": 25,
   "metadata": {
    "ExecuteTime": {
     "end_time": "2017-04-05T14:50:58.532039",
     "start_time": "2017-04-05T16:50:56.523518+02:00"
    },
    "collapsed": false
   },
   "outputs": [
    {
     "data": {
      "text/plain": [
       "[2.002030372619629, 2.0006632804870605, 2.0019373893737793, 2.0020625591278076]"
      ]
     },
     "execution_count": 25,
     "metadata": {},
     "output_type": "execute_result"
    }
   ],
   "source": [
    "# Now block for the result\n",
    "ar.get()"
   ]
  },
  {
   "cell_type": "code",
   "execution_count": 26,
   "metadata": {
    "ExecuteTime": {
     "end_time": "2017-04-05T14:50:58.540686",
     "start_time": "2017-04-05T16:50:58.534841+02:00"
    },
    "collapsed": true
   },
   "outputs": [],
   "source": [
    "# Again in non-blocking mode\n",
    "ar = dview.apply_async(wait, 10)"
   ]
  },
  {
   "cell_type": "code",
   "execution_count": 29,
   "metadata": {
    "ExecuteTime": {
     "end_time": "2017-04-05T14:51:08.713152",
     "start_time": "2017-04-05T16:51:08.705134+02:00"
    },
    "collapsed": false
   },
   "outputs": [
    {
     "data": {
      "text/plain": [
       "True"
      ]
     },
     "execution_count": 29,
     "metadata": {},
     "output_type": "execute_result"
    }
   ],
   "source": [
    "# Poll to see if the result is ready\n",
    "ar.ready()"
   ]
  },
  {
   "cell_type": "code",
   "execution_count": 30,
   "metadata": {
    "ExecuteTime": {
     "end_time": "2017-04-05T14:51:09.389914",
     "start_time": "2017-04-05T16:51:09.383516+02:00"
    },
    "collapsed": false
   },
   "outputs": [
    {
     "data": {
      "text/plain": [
       "[10.008450031280518,\n",
       " 10.005408763885498,\n",
       " 10.009113788604736,\n",
       " 10.008288860321045]"
      ]
     },
     "execution_count": 30,
     "metadata": {},
     "output_type": "execute_result"
    }
   ],
   "source": [
    "# ask for the result, but wait a maximum of 1 second:\n",
    "ar.get(1)"
   ]
  },
  {
   "cell_type": "markdown",
   "metadata": {},
   "source": [
    "**Note**\n",
    "\n",
    "```\n",
    "Note the import inside the function. This is a common model, to ensure that the appropriate modules are imported where the task is run. You can also manually import modules into the engine(s) namespace(s) via view.execute(‘import numpy’).\n",
    "```\n",
    "\n",
    "Often, it is desirable to wait until a set of ``AsyncResult`` objects are done. For this, there is a the method ``wait()``. This method takes a tuple of ``AsyncResult`` objects (or msg_ids or indices to the client’s History), and blocks until all of the associated results are ready:"
   ]
  },
  {
   "cell_type": "code",
   "execution_count": 31,
   "metadata": {
    "ExecuteTime": {
     "end_time": "2017-04-05T14:51:40.461510",
     "start_time": "2017-04-05T16:51:10.320632+02:00"
    },
    "collapsed": false
   },
   "outputs": [
    {
     "data": {
      "text/plain": [
       "[3.0007240772247314, 3.003030300140381, 3.002877950668335, 3.0020809173583984]"
      ]
     },
     "execution_count": 31,
     "metadata": {},
     "output_type": "execute_result"
    }
   ],
   "source": [
    "dview.block=False\n",
    "# A trivial list of AsyncResults objects\n",
    "pr_list = [dview.apply_async(wait, 3) for i in range(10)]\n",
    "# Wait until all of them are done\n",
    "dview.wait(pr_list)\n",
    "# Then, their results are ready using get() or the `.r` attribute\n",
    "pr_list[0].get()"
   ]
  },
  {
   "cell_type": "markdown",
   "metadata": {},
   "source": [
    "### The block and targets keyword arguments and attributes"
   ]
  },
  {
   "cell_type": "markdown",
   "metadata": {},
   "source": [
    "Most DirectView methods (excluding ``apply()``) accept ``block`` and ``targets`` as keyword arguments. As we have seen above, these keyword arguments control the blocking mode and which engines the command is applied to. The ``View`` class also has ``block`` and ``targets`` attributes that control the default behavior when the keyword arguments are not provided. Thus the following logic is used for ``block`` and ``targets``:\n",
    "\n",
    "- If no keyword argument is provided, the instance attributes are used.\n",
    "- The Keyword arguments, if provided overrides the instance attributes for the duration of a single call.\n",
    "\n",
    "The following examples demonstrate how to use the instance attributes:\n",
    "\n"
   ]
  },
  {
   "cell_type": "code",
   "execution_count": 32,
   "metadata": {
    "ExecuteTime": {
     "end_time": "2017-04-05T14:51:40.485144",
     "start_time": "2017-04-05T16:51:40.464122+02:00"
    },
    "collapsed": false
   },
   "outputs": [
    {
     "data": {
      "text/plain": [
       "[10, 10]"
      ]
     },
     "execution_count": 32,
     "metadata": {},
     "output_type": "execute_result"
    }
   ],
   "source": [
    "dview.targets = [0,2]\n",
    "dview.block = False\n",
    "ar = dview.apply(lambda : 10)\n",
    "ar.get()"
   ]
  },
  {
   "cell_type": "code",
   "execution_count": 33,
   "metadata": {
    "ExecuteTime": {
     "end_time": "2017-04-05T14:51:40.559227",
     "start_time": "2017-04-05T16:51:40.488966+02:00"
    },
    "collapsed": false
   },
   "outputs": [
    {
     "data": {
      "text/plain": [
       "[42, 42, 42, 42]"
      ]
     },
     "execution_count": 33,
     "metadata": {},
     "output_type": "execute_result"
    }
   ],
   "source": [
    "dview.targets = rc.ids # all engines (4)\n",
    "dview.block = True\n",
    "dview.apply(lambda : 42)"
   ]
  },
  {
   "cell_type": "markdown",
   "metadata": {},
   "source": [
    "The ``block`` and ``targets`` instance attributes of the ``DirectView`` also determine the behavior of the parallel magic commands."
   ]
  },
  {
   "cell_type": "markdown",
   "metadata": {},
   "source": [
    "## Moving Python objects around"
   ]
  },
  {
   "cell_type": "markdown",
   "metadata": {},
   "source": [
    "In addition to calling functions and executing code on engines, you can transfer Python objects to and from your IPython session and the engines. In IPython, these operations are called ``push()`` (sending an object to the engines) and ``pull()`` (getting an object from the engines)."
   ]
  },
  {
   "cell_type": "markdown",
   "metadata": {},
   "source": [
    "### basic push and pull"
   ]
  },
  {
   "cell_type": "code",
   "execution_count": 34,
   "metadata": {
    "ExecuteTime": {
     "end_time": "2017-04-05T14:51:40.621082",
     "start_time": "2017-04-05T16:51:40.566809+02:00"
    },
    "collapsed": false
   },
   "outputs": [
    {
     "data": {
      "text/plain": [
       "[None, None, None, None]"
      ]
     },
     "execution_count": 34,
     "metadata": {},
     "output_type": "execute_result"
    }
   ],
   "source": [
    "dview.push(dict(a=1.03234,b=3453))"
   ]
  },
  {
   "cell_type": "code",
   "execution_count": 35,
   "metadata": {
    "ExecuteTime": {
     "end_time": "2017-04-05T14:51:40.673839",
     "start_time": "2017-04-05T16:51:40.642893+02:00"
    },
    "collapsed": false
   },
   "outputs": [
    {
     "data": {
      "text/plain": [
       "[1.03234, 1.03234, 1.03234, 1.03234]"
      ]
     },
     "execution_count": 35,
     "metadata": {},
     "output_type": "execute_result"
    }
   ],
   "source": [
    "dview.pull('a')"
   ]
  },
  {
   "cell_type": "code",
   "execution_count": 36,
   "metadata": {
    "ExecuteTime": {
     "end_time": "2017-04-05T14:51:40.713643",
     "start_time": "2017-04-05T16:51:40.687060+02:00"
    },
    "collapsed": false
   },
   "outputs": [
    {
     "data": {
      "text/plain": [
       "3453"
      ]
     },
     "execution_count": 36,
     "metadata": {},
     "output_type": "execute_result"
    }
   ],
   "source": [
    "dview.pull('b', targets=0)"
   ]
  },
  {
   "cell_type": "code",
   "execution_count": 37,
   "metadata": {
    "ExecuteTime": {
     "end_time": "2017-04-05T14:51:40.790703",
     "start_time": "2017-04-05T16:51:40.720321+02:00"
    },
    "collapsed": false
   },
   "outputs": [
    {
     "data": {
      "text/plain": [
       "[[1.03234, 3453], [1.03234, 3453], [1.03234, 3453], [1.03234, 3453]]"
      ]
     },
     "execution_count": 37,
     "metadata": {},
     "output_type": "execute_result"
    }
   ],
   "source": [
    "dview.pull(('a','b'))"
   ]
  },
  {
   "cell_type": "code",
   "execution_count": 38,
   "metadata": {
    "ExecuteTime": {
     "end_time": "2017-04-05T14:51:40.862845",
     "start_time": "2017-04-05T16:51:40.795560+02:00"
    },
    "collapsed": false
   },
   "outputs": [
    {
     "data": {
      "text/plain": [
       "[None, None, None, None]"
      ]
     },
     "execution_count": 38,
     "metadata": {},
     "output_type": "execute_result"
    }
   ],
   "source": [
    "dview.push(dict(c='speed'))"
   ]
  },
  {
   "cell_type": "markdown",
   "metadata": {},
   "source": [
    "In non-blocking mode ``push()`` and ``pull()`` also return ``AsyncResult`` objects:"
   ]
  },
  {
   "cell_type": "code",
   "execution_count": 39,
   "metadata": {
    "ExecuteTime": {
     "end_time": "2017-04-05T14:51:40.930369",
     "start_time": "2017-04-05T16:51:40.876544+02:00"
    },
    "collapsed": false
   },
   "outputs": [
    {
     "data": {
      "text/plain": [
       "[1.03234, 1.03234, 1.03234, 1.03234]"
      ]
     },
     "execution_count": 39,
     "metadata": {},
     "output_type": "execute_result"
    }
   ],
   "source": [
    "ar = dview.pull('a', block=False)\n",
    "ar.get()"
   ]
  },
  {
   "cell_type": "markdown",
   "metadata": {
    "ExecuteTime": {
     "end_time": "2017-04-05T13:11:54.615712",
     "start_time": "2017-04-05T15:11:54.609546+02:00"
    }
   },
   "source": [
    "### Dictionary interface\n"
   ]
  },
  {
   "cell_type": "markdown",
   "metadata": {},
   "source": [
    "Since a Python namespace is just a ``dict``, ``DirectView`` objects provide dictionary-style access by key and methods such as ``get()`` and ``update()`` for convenience. This make the remote namespaces of the engines appear as a local dictionary. Underneath, these methods call ``apply()``:"
   ]
  },
  {
   "cell_type": "code",
   "execution_count": 40,
   "metadata": {
    "ExecuteTime": {
     "end_time": "2017-04-05T14:51:41.061007",
     "start_time": "2017-04-05T16:51:40.936160+02:00"
    },
    "collapsed": false
   },
   "outputs": [
    {
     "data": {
      "text/plain": [
       "[['foo', 'bar'], ['foo', 'bar'], ['foo', 'bar'], ['foo', 'bar']]"
      ]
     },
     "execution_count": 40,
     "metadata": {},
     "output_type": "execute_result"
    }
   ],
   "source": [
    "dview['a']=['foo','bar']\n",
    "dview['a']"
   ]
  },
  {
   "cell_type": "markdown",
   "metadata": {
    "ExecuteTime": {
     "end_time": "2017-04-05T13:13:02.982767",
     "start_time": "2017-04-05T15:13:02.946680+02:00"
    }
   },
   "source": [
    "### Scatter and gather"
   ]
  },
  {
   "cell_type": "markdown",
   "metadata": {},
   "source": [
    "Sometimes it is useful to partition a sequence and push the partitions to different engines. In MPI language, this is know as scatter/gather and we follow that terminology. However, it is important to remember that in IPython’s Client class, scatter() is from the interactive IPython session to the engines and gather() is from the engines back to the interactive IPython session. For scatter/gather operations between engines, MPI, pyzmq, or some other direct interconnect should be used."
   ]
  },
  {
   "cell_type": "code",
   "execution_count": 41,
   "metadata": {
    "ExecuteTime": {
     "end_time": "2017-04-05T14:51:41.101622",
     "start_time": "2017-04-05T16:51:41.068404+02:00"
    },
    "collapsed": false
   },
   "outputs": [],
   "source": [
    "dview.scatter('a',range(16))"
   ]
  },
  {
   "cell_type": "code",
   "execution_count": 42,
   "metadata": {
    "ExecuteTime": {
     "end_time": "2017-04-05T14:51:41.136105",
     "start_time": "2017-04-05T16:51:41.104849+02:00"
    },
    "collapsed": false
   },
   "outputs": [
    {
     "data": {
      "text/plain": [
       "[range(0, 4), range(4, 8), range(8, 12), range(12, 16)]"
      ]
     },
     "execution_count": 42,
     "metadata": {},
     "output_type": "execute_result"
    }
   ],
   "source": [
    "dview['a']"
   ]
  },
  {
   "cell_type": "code",
   "execution_count": 43,
   "metadata": {
    "ExecuteTime": {
     "end_time": "2017-04-05T14:51:41.195762",
     "start_time": "2017-04-05T16:51:41.144338+02:00"
    },
    "collapsed": false
   },
   "outputs": [
    {
     "data": {
      "text/plain": [
       "[range(0, 4), range(4, 8), range(8, 12), range(12, 16)]"
      ]
     },
     "execution_count": 43,
     "metadata": {},
     "output_type": "execute_result"
    }
   ],
   "source": [
    "dview.gather('a')"
   ]
  },
  {
   "cell_type": "markdown",
   "metadata": {},
   "source": [
    "### AsyncResults have metadata"
   ]
  },
  {
   "cell_type": "code",
   "execution_count": 44,
   "metadata": {
    "ExecuteTime": {
     "end_time": "2017-04-05T14:51:43.251802",
     "start_time": "2017-04-05T16:51:41.200537+02:00"
    },
    "collapsed": false
   },
   "outputs": [
    {
     "data": {
      "text/plain": [
       "[{'after': [],\n",
       "  'completed': datetime.datetime(2017, 4, 5, 14, 51, 43, 234697, tzinfo=tzutc()),\n",
       "  'data': {},\n",
       "  'engine_id': 0,\n",
       "  'engine_uuid': 'a5b01a99-c4fa9c72efafdf007aa25f5a',\n",
       "  'error': None,\n",
       "  'execute_input': None,\n",
       "  'execute_result': None,\n",
       "  'follow': [],\n",
       "  'msg_id': 'b0df32b6-8c516be625e913b94e67e023',\n",
       "  'outputs': [],\n",
       "  'received': datetime.datetime(2017, 4, 5, 14, 51, 43, 244589, tzinfo=tzutc()),\n",
       "  'started': datetime.datetime(2017, 4, 5, 14, 51, 41, 229870, tzinfo=tzutc()),\n",
       "  'status': 'ok',\n",
       "  'stderr': '',\n",
       "  'stdout': '',\n",
       "  'submitted': datetime.datetime(2017, 4, 5, 14, 51, 41, 224038, tzinfo=tzutc())},\n",
       " {'after': [],\n",
       "  'completed': datetime.datetime(2017, 4, 5, 14, 51, 43, 234334, tzinfo=tzutc()),\n",
       "  'data': {},\n",
       "  'engine_id': 1,\n",
       "  'engine_uuid': '0361038c-7c2ea2a90973d7d6a0b787fb',\n",
       "  'error': None,\n",
       "  'execute_input': None,\n",
       "  'execute_result': None,\n",
       "  'follow': [],\n",
       "  'msg_id': '78ac1fe1-fe6608e0a7736acc67347c56',\n",
       "  'outputs': [],\n",
       "  'received': datetime.datetime(2017, 4, 5, 14, 51, 43, 242009, tzinfo=tzutc()),\n",
       "  'started': datetime.datetime(2017, 4, 5, 14, 51, 41, 231895, tzinfo=tzutc()),\n",
       "  'status': 'ok',\n",
       "  'stderr': '',\n",
       "  'stdout': '',\n",
       "  'submitted': datetime.datetime(2017, 4, 5, 14, 51, 41, 224526, tzinfo=tzutc())},\n",
       " {'after': [],\n",
       "  'completed': datetime.datetime(2017, 4, 5, 14, 51, 43, 235072, tzinfo=tzutc()),\n",
       "  'data': {},\n",
       "  'engine_id': 2,\n",
       "  'engine_uuid': '981a136a-f4d5656b62f09909c5974aea',\n",
       "  'error': None,\n",
       "  'execute_input': None,\n",
       "  'execute_result': None,\n",
       "  'follow': [],\n",
       "  'msg_id': 'f5393cb8-e81f2a5fa802b543ba7d05b2',\n",
       "  'outputs': [],\n",
       "  'received': datetime.datetime(2017, 4, 5, 14, 51, 43, 243332, tzinfo=tzutc()),\n",
       "  'started': datetime.datetime(2017, 4, 5, 14, 51, 41, 230706, tzinfo=tzutc()),\n",
       "  'status': 'ok',\n",
       "  'stderr': '',\n",
       "  'stdout': '',\n",
       "  'submitted': datetime.datetime(2017, 4, 5, 14, 51, 41, 224886, tzinfo=tzutc())},\n",
       " {'after': [],\n",
       "  'completed': datetime.datetime(2017, 4, 5, 14, 51, 43, 235135, tzinfo=tzutc()),\n",
       "  'data': {},\n",
       "  'engine_id': 3,\n",
       "  'engine_uuid': '903c8824-b326f28b17f2fd0ebee0d7d8',\n",
       "  'error': None,\n",
       "  'execute_input': None,\n",
       "  'execute_result': None,\n",
       "  'follow': [],\n",
       "  'msg_id': 'fad0b552-bdc1798f9383708e00b1a38a',\n",
       "  'outputs': [],\n",
       "  'received': datetime.datetime(2017, 4, 5, 14, 51, 43, 245839, tzinfo=tzutc()),\n",
       "  'started': datetime.datetime(2017, 4, 5, 14, 51, 41, 230877, tzinfo=tzutc()),\n",
       "  'status': 'ok',\n",
       "  'stderr': '',\n",
       "  'stdout': '',\n",
       "  'submitted': datetime.datetime(2017, 4, 5, 14, 51, 41, 225260, tzinfo=tzutc())}]"
      ]
     },
     "execution_count": 44,
     "metadata": {},
     "output_type": "execute_result"
    }
   ],
   "source": [
    "# In non-blocking mode\n",
    "dview.block = False\n",
    "ar = dview.apply_async(wait, 2)\n",
    "ar.get()\n",
    "ar.metadata"
   ]
  },
  {
   "cell_type": "markdown",
   "metadata": {
    "ExecuteTime": {
     "end_time": "2017-04-05T13:15:49.170257",
     "start_time": "2017-04-05T15:15:49.157191+02:00"
    }
   },
   "source": [
    "## Other things to look at"
   ]
  },
  {
   "cell_type": "markdown",
   "metadata": {},
   "source": [
    "### How to do parallel list comprehensions\n",
    "\n"
   ]
  },
  {
   "cell_type": "markdown",
   "metadata": {},
   "source": [
    "In many cases list comprehensions are nicer than using the map function. While we don’t have fully parallel list comprehensions, it is simple to get the basic effect using scatter() and gather():\n",
    "\n",
    "The %px magic executes a single Python command on the engines specified by the targets attribute of the DirectView instance"
   ]
  },
  {
   "cell_type": "code",
   "execution_count": 45,
   "metadata": {
    "ExecuteTime": {
     "end_time": "2017-04-05T14:51:43.348394",
     "start_time": "2017-04-05T16:51:43.254130+02:00"
    },
    "collapsed": false
   },
   "outputs": [
    {
     "name": "stdout",
     "output_type": "stream",
     "text": [
      "<AsyncMapResult: gather>\n"
     ]
    }
   ],
   "source": [
    "dview.scatter('x',range(64))\n",
    "#Parallel execution on engines: [0, 1, 2, 3]\n",
    "%px y = [i**10 for i in x]\n",
    "y = dview.gather('y')\n",
    "print(y)"
   ]
  },
  {
   "cell_type": "markdown",
   "metadata": {
    "ExecuteTime": {
     "end_time": "2017-04-05T13:16:51.477567",
     "start_time": "2017-04-05T15:16:51.440379+02:00"
    }
   },
   "source": [
    "### Remote imports"
   ]
  },
  {
   "cell_type": "markdown",
   "metadata": {
    "ExecuteTime": {
     "end_time": "2017-04-05T13:16:58.515945",
     "start_time": "2017-04-05T15:16:58.485690+02:00"
    }
   },
   "source": [
    "Sometimes you will want to import packages both in your interactive session and on your remote engines. This can be done with the ContextManager created by a DirectView’s sync_imports() method:"
   ]
  },
  {
   "cell_type": "code",
   "execution_count": 46,
   "metadata": {
    "ExecuteTime": {
     "end_time": "2017-04-05T14:51:43.418395",
     "start_time": "2017-04-05T16:51:43.351875+02:00"
    },
    "collapsed": false
   },
   "outputs": [
    {
     "name": "stdout",
     "output_type": "stream",
     "text": [
      "importing numpy on engine(s)\n"
     ]
    }
   ],
   "source": [
    "with dview.sync_imports():\n",
    "    import numpy"
   ]
  },
  {
   "cell_type": "markdown",
   "metadata": {},
   "source": [
    "Any imports made inside the block will also be performed on the view’s engines. sync_imports also takes a local boolean flag that defaults to True, which specifies whether the local imports should also be performed. However, support for local=False has not been implemented, so only packages that can be imported locally will work this way. Note that the usual renaming of the import handle in the same line like in import matplotlib.pyplot as plt’ does not work on the remote engine, the `as plt is ignored remotely, while it executes locally. One could rename the remote handle with %px plt = pyplot though after the import.\n",
    "\n",
    "You can also specify imports via the @require decorator. This is a decorator designed for use in Dependencies, but can be used to handle remote imports as well. Modules or module names passed to @require will be imported before the decorated function is called. If they cannot be imported, the decorated function will never execute and will fail with an UnmetDependencyError. Failures of single Engines will be collected and raise a CompositeError, as demonstrated in the next section."
   ]
  },
  {
   "cell_type": "code",
   "execution_count": 47,
   "metadata": {
    "ExecuteTime": {
     "end_time": "2017-04-05T14:51:43.428707",
     "start_time": "2017-04-05T16:51:43.422251+02:00"
    },
    "collapsed": true
   },
   "outputs": [],
   "source": [
    "from ipyparallel import require"
   ]
  },
  {
   "cell_type": "code",
   "execution_count": 48,
   "metadata": {
    "ExecuteTime": {
     "end_time": "2017-04-05T14:51:43.441765",
     "start_time": "2017-04-05T16:51:43.433819+02:00"
    },
    "collapsed": true
   },
   "outputs": [],
   "source": [
    "@require('re')\n",
    "def findall(pat, x):\n",
    "    # re is guaranteed to be available\n",
    "    return re.findall(pat, x)"
   ]
  },
  {
   "cell_type": "code",
   "execution_count": 49,
   "metadata": {
    "ExecuteTime": {
     "end_time": "2017-04-05T14:51:43.458860",
     "start_time": "2017-04-05T16:51:43.448733+02:00"
    },
    "collapsed": false
   },
   "outputs": [],
   "source": [
    "import time\n",
    "# you can also pass modules themselves, that you already have locally:\n",
    "@require(time)\n",
    "def wait(t):\n",
    "    time.sleep(t)\n",
    "    return t"
   ]
  },
  {
   "cell_type": "markdown",
   "metadata": {},
   "source": [
    "**important note to remember**\n",
    "\n",
    "```\n",
    "sync_imports() does not allow import foo as bar syntax, because the assignment represented by the as bar part is not available to the import hook.\n",
    "```"
   ]
  },
  {
   "cell_type": "markdown",
   "metadata": {},
   "source": [
    "### Parallel exceptions"
   ]
  },
  {
   "cell_type": "markdown",
   "metadata": {},
   "source": [
    "In the multiengine interface, parallel commands can raise Python exceptions, just like serial commands. But it is a little subtle, because a single parallel command can actually raise multiple exceptions (one for each engine the command was run on). To express this idea, we have a CompositeError exception class that will be raised in most cases. The CompositeError class is a special type of exception that wraps one or more other types of exceptions. Here is how it works:"
   ]
  },
  {
   "cell_type": "code",
   "execution_count": 51,
   "metadata": {
    "ExecuteTime": {
     "end_time": "2017-04-05T14:52:17.084118",
     "start_time": "2017-04-05T16:52:17.047929+02:00"
    },
    "collapsed": false
   },
   "outputs": [
    {
     "ename": "CompositeError",
     "evalue": "one or more exceptions from call to method: execute\n[0:execute]: ZeroDivisionError: division by zero\n[1:execute]: ZeroDivisionError: division by zero\n[2:execute]: ZeroDivisionError: division by zero\n[3:execute]: ZeroDivisionError: division by zero",
     "output_type": "error",
     "traceback": [
      "[0:execute]: ",
      "\u001b[0;31m---------------------------------------------------------------------------\u001b[0m\u001b[0;31mZeroDivisionError\u001b[0m                         Traceback (most recent call last)\u001b[0;32m<ipython-input-2-05c9758a9c21>\u001b[0m in \u001b[0;36m<module>\u001b[0;34m()\u001b[0m",
      "\u001b[0;32m----> 1\u001b[0;31m \u001b[0;36m1\u001b[0m\u001b[0;34m/\u001b[0m\u001b[0;36m0\u001b[0m\u001b[0;34m\u001b[0m\u001b[0m",
      "\u001b[0m\u001b[0;31mZeroDivisionError\u001b[0m: division by zero",
      "",
      "[1:execute]: ",
      "\u001b[0;31m---------------------------------------------------------------------------\u001b[0m\u001b[0;31mZeroDivisionError\u001b[0m                         Traceback (most recent call last)\u001b[0;32m<ipython-input-2-05c9758a9c21>\u001b[0m in \u001b[0;36m<module>\u001b[0;34m()\u001b[0m",
      "\u001b[0;32m----> 1\u001b[0;31m \u001b[0;36m1\u001b[0m\u001b[0;34m/\u001b[0m\u001b[0;36m0\u001b[0m\u001b[0;34m\u001b[0m\u001b[0m",
      "\u001b[0m\u001b[0;31mZeroDivisionError\u001b[0m: division by zero",
      "",
      "[2:execute]: ",
      "\u001b[0;31m---------------------------------------------------------------------------\u001b[0m\u001b[0;31mZeroDivisionError\u001b[0m                         Traceback (most recent call last)\u001b[0;32m<ipython-input-2-05c9758a9c21>\u001b[0m in \u001b[0;36m<module>\u001b[0;34m()\u001b[0m",
      "\u001b[0;32m----> 1\u001b[0;31m \u001b[0;36m1\u001b[0m\u001b[0;34m/\u001b[0m\u001b[0;36m0\u001b[0m\u001b[0;34m\u001b[0m\u001b[0m",
      "\u001b[0m\u001b[0;31mZeroDivisionError\u001b[0m: division by zero",
      "",
      "[3:execute]: ",
      "\u001b[0;31m---------------------------------------------------------------------------\u001b[0m\u001b[0;31mZeroDivisionError\u001b[0m                         Traceback (most recent call last)\u001b[0;32m<ipython-input-2-05c9758a9c21>\u001b[0m in \u001b[0;36m<module>\u001b[0;34m()\u001b[0m",
      "\u001b[0;32m----> 1\u001b[0;31m \u001b[0;36m1\u001b[0m\u001b[0;34m/\u001b[0m\u001b[0;36m0\u001b[0m\u001b[0;34m\u001b[0m\u001b[0m",
      "\u001b[0m\u001b[0;31mZeroDivisionError\u001b[0m: division by zero",
      ""
     ]
    }
   ],
   "source": [
    "dview.block = True\n",
    "dview.execute(\"1/0\")"
   ]
  },
  {
   "cell_type": "markdown",
   "metadata": {},
   "source": [
    "Notice how the error message printed when CompositeError is raised has information about the individual exceptions that were raised on each engine. If you want, you can even raise one of these original exceptions:"
   ]
  },
  {
   "cell_type": "code",
   "execution_count": 52,
   "metadata": {
    "ExecuteTime": {
     "end_time": "2017-04-05T14:52:18.169831",
     "start_time": "2017-04-05T16:52:18.127045+02:00"
    },
    "collapsed": false
   },
   "outputs": [
    {
     "ename": "RemoteError",
     "evalue": "ZeroDivisionError(division by zero)",
     "output_type": "error",
     "traceback": [
      "\u001b[0;31m---------------------------------------------------------------------------\u001b[0m\u001b[0;31mZeroDivisionError\u001b[0m                         Traceback (most recent call last)\u001b[0;32m<ipython-input-2-05c9758a9c21>\u001b[0m in \u001b[0;36m<module>\u001b[0;34m()\u001b[0m",
      "\u001b[0;32m----> 1\u001b[0;31m \u001b[0;36m1\u001b[0m\u001b[0;34m/\u001b[0m\u001b[0;36m0\u001b[0m\u001b[0;34m\u001b[0m\u001b[0m",
      "\u001b[0m\u001b[0;31mZeroDivisionError\u001b[0m: division by zero"
     ]
    }
   ],
   "source": [
    "from ipyparallel import CompositeError\n",
    "\n",
    "try:\n",
    "    dview.execute('1/0', block=True)\n",
    "except CompositeError as e:\n",
    "    e.raise_exception()"
   ]
  },
  {
   "cell_type": "markdown",
   "metadata": {},
   "source": [
    "Since you might have 100 engines, you probably don’t want to see 100 tracebacks for a simple NameError because of a typo. For this reason, CompositeError truncates the list of exceptions it will print to CompositeError.tb_limit (default is five). You can change this limit to suit your needs with:"
   ]
  },
  {
   "cell_type": "code",
   "execution_count": 53,
   "metadata": {
    "ExecuteTime": {
     "end_time": "2017-04-05T14:52:19.066315",
     "start_time": "2017-04-05T16:52:19.024866+02:00"
    },
    "collapsed": false
   },
   "outputs": [
    {
     "ename": "CompositeError",
     "evalue": "one or more exceptions from call to method: execute\n[0:execute]: NameError: name 'z' is not defined\n.... 3 more exceptions ...",
     "output_type": "error",
     "traceback": [
      "[0:execute]: ",
      "\u001b[0;31m---------------------------------------------------------------------------\u001b[0m\u001b[0;31mNameError\u001b[0m                                 Traceback (most recent call last)\u001b[0;32m<ipython-input-2-909b6ed53999>\u001b[0m in \u001b[0;36m<module>\u001b[0;34m()\u001b[0m",
      "\u001b[0;32m----> 1\u001b[0;31m \u001b[0mx\u001b[0m\u001b[0;34m=\u001b[0m\u001b[0mz\u001b[0m\u001b[0;34m\u001b[0m\u001b[0m",
      "\u001b[0m\u001b[0;31mNameError\u001b[0m: name 'z' is not defined",
      "",
      "... 3 more exceptions ..."
     ]
    }
   ],
   "source": [
    "from ipyparallel import CompositeError\n",
    "CompositeError.tb_limit = 1\n",
    "%px x=z"
   ]
  },
  {
   "cell_type": "markdown",
   "metadata": {},
   "source": [
    "All of this same error handling magic even works in non-blocking mode:"
   ]
  },
  {
   "cell_type": "code",
   "execution_count": 54,
   "metadata": {
    "ExecuteTime": {
     "end_time": "2017-04-05T14:52:19.835755",
     "start_time": "2017-04-05T16:52:19.795876+02:00"
    },
    "collapsed": false
   },
   "outputs": [
    {
     "ename": "CompositeError",
     "evalue": "one or more exceptions from call to method: execute\n[0:execute]: ZeroDivisionError: division by zero\n.... 3 more exceptions ...",
     "output_type": "error",
     "traceback": [
      "[0:execute]: ",
      "\u001b[0;31m---------------------------------------------------------------------------\u001b[0m\u001b[0;31mZeroDivisionError\u001b[0m                         Traceback (most recent call last)\u001b[0;32m<ipython-input-3-05c9758a9c21>\u001b[0m in \u001b[0;36m<module>\u001b[0;34m()\u001b[0m",
      "\u001b[0;32m----> 1\u001b[0;31m \u001b[0;36m1\u001b[0m\u001b[0;34m/\u001b[0m\u001b[0;36m0\u001b[0m\u001b[0;34m\u001b[0m\u001b[0m",
      "\u001b[0m\u001b[0;31mZeroDivisionError\u001b[0m: division by zero",
      "",
      "... 3 more exceptions ..."
     ]
    }
   ],
   "source": [
    "dview.block=False\n",
    "ar = dview.execute('1/0')\n",
    "ar.get()"
   ]
  },
  {
   "cell_type": "markdown",
   "metadata": {},
   "source": [
    "## example: monte carlo approximation of pi"
   ]
  },
  {
   "cell_type": "markdown",
   "metadata": {},
   "source": [
    "A simple toy problem to get a handle on multiple engines is a Monte Carlo approximation of π.\n",
    "\n",
    "Let’s say we have a dartboard with a round target inscribed on a square board. If you threw darts randomly, and they land evenly distributed on the square board, how many darts would you expect to hit the target?"
   ]
  },
  {
   "cell_type": "markdown",
   "metadata": {
    "ExecuteTime": {
     "end_time": "2017-04-05T14:50:03.101265",
     "start_time": "2017-04-05T16:50:03.095281+02:00"
    }
   },
   "source": [
    "<img src=\"darts.png\">"
   ]
  },
  {
   "cell_type": "code",
   "execution_count": null,
   "metadata": {
    "collapsed": true
   },
   "outputs": [],
   "source": [
    "from random import random\n",
    "from math import pi\n",
    "dview['random'] = random"
   ]
  },
  {
   "cell_type": "code",
   "execution_count": 128,
   "metadata": {
    "ExecuteTime": {
     "end_time": "2017-04-05T15:16:36.169646",
     "start_time": "2017-04-05T17:16:36.135986+02:00"
    },
    "collapsed": false
   },
   "outputs": [],
   "source": [
    "def mcpi(nsamples):\n",
    "    s = 0\n",
    "    for i in range(nsamples):\n",
    "        x = random()\n",
    "        y = random()\n",
    "        if x*x + y*y <= 1:\n",
    "            s+=1\n",
    "    return 4.*s/nsamples\n",
    "    \n",
    "def multi_mcpi(view, nsamples):\n",
    "    p = len(view.targets)\n",
    "    if nsamples % p:\n",
    "        # ensure even divisibility\n",
    "        nsamples += p - (nsamples%p)\n",
    "    \n",
    "    subsamples = nsamples//p\n",
    "    \n",
    "    ar = view.apply(mcpi, subsamples)\n",
    "    return sum(ar)/p\n",
    "\n",
    "def check_pi(tol=1e-5, step=10, verbose=False):\n",
    "    guess = 0\n",
    "    spi = pi\n",
    "    steps = 0\n",
    "    while abs(spi-guess)/spi > tol:\n",
    "        for i in range(step):\n",
    "            x = random()\n",
    "            y = random()\n",
    "            if x*x+y*y <= 1:\n",
    "                guess += 4.\n",
    "        steps += step\n",
    "        spi = pi*steps\n",
    "        if verbose:\n",
    "            print(spi, guess, abs(spi-guess)/spi)\n",
    "    return steps, guess/steps"
   ]
  },
  {
   "cell_type": "code",
   "execution_count": 126,
   "metadata": {
    "ExecuteTime": {
     "end_time": "2017-04-05T15:15:16.134250",
     "start_time": "2017-04-05T17:15:12.473464+02:00"
    },
    "collapsed": false
   },
   "outputs": [
    {
     "name": "stdout",
     "output_type": "stream",
     "text": [
      "CPU times: user 3.66 s, sys: 10 µs, total: 3.66 s\n",
      "Wall time: 3.65 s\n"
     ]
    },
    {
     "data": {
      "text/plain": [
       "3.1409052"
      ]
     },
     "execution_count": 126,
     "metadata": {},
     "output_type": "execute_result"
    }
   ],
   "source": [
    "%%time\n",
    "mcpi(int(1e7))"
   ]
  },
  {
   "cell_type": "code",
   "execution_count": 125,
   "metadata": {
    "ExecuteTime": {
     "end_time": "2017-04-05T15:15:08.126226",
     "start_time": "2017-04-05T17:15:05.926858+02:00"
    },
    "collapsed": false
   },
   "outputs": [
    {
     "name": "stdout",
     "output_type": "stream",
     "text": [
      "CPU times: user 14.2 ms, sys: 3.97 ms, total: 18.2 ms\n",
      "Wall time: 2.19 s\n"
     ]
    },
    {
     "data": {
      "text/plain": [
       "3.1404528"
      ]
     },
     "execution_count": 125,
     "metadata": {},
     "output_type": "execute_result"
    }
   ],
   "source": [
    "%%time\n",
    "multi_mcpi(dview, int(1e7))"
   ]
  },
  {
   "cell_type": "code",
   "execution_count": 134,
   "metadata": {
    "ExecuteTime": {
     "end_time": "2017-04-05T15:17:08.789304",
     "start_time": "2017-04-05T17:17:08.504483+02:00"
    },
    "collapsed": false
   },
   "outputs": [
    {
     "data": {
      "text/plain": [
       "(507150, 3.1416188504387264)"
      ]
     },
     "execution_count": 134,
     "metadata": {},
     "output_type": "execute_result"
    }
   ],
   "source": [
    "check_pi()"
   ]
  },
  {
   "cell_type": "code",
   "execution_count": null,
   "metadata": {
    "collapsed": true
   },
   "outputs": [],
   "source": []
  }
 ],
 "metadata": {
  "anaconda-cloud": {},
  "hide_input": false,
  "kernelspec": {
   "display_name": "Python [conda env:ipyparallelseminar]",
   "language": "python",
   "name": "conda-env-ipyparallelseminar-py"
  },
  "language_info": {
   "codemirror_mode": {
    "name": "ipython",
    "version": 3
   },
   "file_extension": ".py",
   "mimetype": "text/x-python",
   "name": "python",
   "nbconvert_exporter": "python",
   "pygments_lexer": "ipython3",
   "version": "3.6.1"
  },
  "toc": {
   "toc_cell": true,
   "toc_number_sections": true,
   "toc_section_display": "none",
   "toc_threshold": 6,
   "toc_window_display": true
  },
  "toc_position": {
   "height": "42px",
   "left": "1719.38px",
   "right": "20px",
   "top": "120px",
   "width": "183px"
  }
 },
 "nbformat": 4,
 "nbformat_minor": 2
}
