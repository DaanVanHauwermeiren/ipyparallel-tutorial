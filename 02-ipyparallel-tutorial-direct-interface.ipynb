{
 "cells": [
  {
   "cell_type": "markdown",
   "metadata": {
    "toc": "true"
   },
   "source": [
    "# Table of Contents\n",
    " <p><div class=\"lev1\"><a href=\"#IPython’s-Direct-interface\"><span class=\"toc-item-num\">1&nbsp;&nbsp;</span>IPython’s Direct interface</a></div><div class=\"lev2\"><a href=\"#Starting-the-IPython-controller-and-engines\"><span class=\"toc-item-num\">1.1&nbsp;&nbsp;</span>Starting the IPython controller and engines</a></div><div class=\"lev2\"><a href=\"#Creating-a-DirectView-instance\"><span class=\"toc-item-num\">1.2&nbsp;&nbsp;</span>Creating a <code>DirectView</code> instance</a></div><div class=\"lev2\"><a href=\"#Quick-and-easy-parallelism\"><span class=\"toc-item-num\">1.3&nbsp;&nbsp;</span>Quick and easy parallelism</a></div><div class=\"lev3\"><a href=\"#Parallel-map\"><span class=\"toc-item-num\">1.3.1&nbsp;&nbsp;</span>Parallel map</a></div><div class=\"lev3\"><a href=\"#Remote-function-decorators\"><span class=\"toc-item-num\">1.3.2&nbsp;&nbsp;</span>Remote function decorators</a></div><div class=\"lev2\"><a href=\"#Calling-Python-functions\"><span class=\"toc-item-num\">1.4&nbsp;&nbsp;</span>Calling Python functions</a></div><div class=\"lev3\"><a href=\"#apply\"><span class=\"toc-item-num\">1.4.1&nbsp;&nbsp;</span>apply</a></div><div class=\"lev3\"><a href=\"#Blocking-execution\"><span class=\"toc-item-num\">1.4.2&nbsp;&nbsp;</span>Blocking execution</a></div><div class=\"lev3\"><a href=\"#Non-blocking-execution\"><span class=\"toc-item-num\">1.4.3&nbsp;&nbsp;</span>Non-blocking execution</a></div><div class=\"lev3\"><a href=\"#The-block-and-targets-keyword-arguments-and-attributes\"><span class=\"toc-item-num\">1.4.4&nbsp;&nbsp;</span>The block and targets keyword arguments and attributes</a></div><div class=\"lev2\"><a href=\"#Moving-Python-objects-around\"><span class=\"toc-item-num\">1.5&nbsp;&nbsp;</span>Moving Python objects around</a></div><div class=\"lev3\"><a href=\"#basic-push-and-pull\"><span class=\"toc-item-num\">1.5.1&nbsp;&nbsp;</span>basic push and pull</a></div><div class=\"lev3\"><a href=\"#Dictionary-interface\"><span class=\"toc-item-num\">1.5.2&nbsp;&nbsp;</span>Dictionary interface</a></div><div class=\"lev3\"><a href=\"#Scatter-and-gather\"><span class=\"toc-item-num\">1.5.3&nbsp;&nbsp;</span>Scatter and gather</a></div><div class=\"lev3\"><a href=\"#AsyncResults-have-metadata\"><span class=\"toc-item-num\">1.5.4&nbsp;&nbsp;</span>AsyncResults have metadata</a></div><div class=\"lev2\"><a href=\"#Other-things-to-look-at\"><span class=\"toc-item-num\">1.6&nbsp;&nbsp;</span>Other things to look at</a></div><div class=\"lev3\"><a href=\"#How-to-do-parallel-list-comprehensions\"><span class=\"toc-item-num\">1.6.1&nbsp;&nbsp;</span>How to do parallel list comprehensions</a></div><div class=\"lev3\"><a href=\"#Remote-imports\"><span class=\"toc-item-num\">1.6.2&nbsp;&nbsp;</span>Remote imports</a></div><div class=\"lev3\"><a href=\"#Parallel-exceptions\"><span class=\"toc-item-num\">1.6.3&nbsp;&nbsp;</span>Parallel exceptions</a></div>"
   ]
  },
  {
   "cell_type": "markdown",
   "metadata": {},
   "source": [
    "# IPython’s Direct interface"
   ]
  },
  {
   "cell_type": "markdown",
   "metadata": {},
   "source": [
    "The direct, or multiengine, interface represents one possible way of working with a set of IPython engines. The basic idea behind the multiengine interface is that the capabilities of each engine are directly and explicitly exposed to the user. Thus, in the multiengine interface, each engine is given an id that is used to identify the engine and give it work to do. This interface is very intuitive and is designed with interactive usage in mind, and is the best place for new users of IPython to begin."
   ]
  },
  {
   "cell_type": "markdown",
   "metadata": {},
   "source": [
    "## Starting the IPython controller and engines"
   ]
  },
  {
   "cell_type": "markdown",
   "metadata": {},
   "source": [
    "To follow along with this tutorial, you will need to start the IPython\n",
    "controller and four IPython engines. The simplest way of doing this is to use\n",
    "the `ipcluster`:\n",
    "\n",
    "    $ ipcluster start --n=4 --profile='direct-view'\n",
    "\n",
    "The name of the profile is of no importance. But I advise to use different names for different notebooks: this lessens the amount of possible confusion of which cluster is running the jobs for which notebook."
   ]
  },
  {
   "cell_type": "markdown",
   "metadata": {
    "ExecuteTime": {
     "end_time": "2017-04-05T10:03:02.803333",
     "start_time": "2017-04-05T12:03:02.799324+02:00"
    }
   },
   "source": [
    "## Creating a ```DirectView``` instance"
   ]
  },
  {
   "cell_type": "markdown",
   "metadata": {},
   "source": [
    "The first step is to import the IPython ```ipyparallel``` module and then create a Client instance:\n",
    "\n"
   ]
  },
  {
   "cell_type": "code",
   "execution_count": null,
   "metadata": {
    "ExecuteTime": {
     "end_time": "2017-04-05T13:51:26.787355",
     "start_time": "2017-04-05T15:51:26.765972+02:00"
    },
    "collapsed": false
   },
   "outputs": [],
   "source": [
    "from ipyparallel import Client\n",
    "rc = Client(profile='direct-view')"
   ]
  },
  {
   "cell_type": "markdown",
   "metadata": {},
   "source": [
    "To make sure there are engines connected to the controller, users can get a list of engine ids:"
   ]
  },
  {
   "cell_type": "code",
   "execution_count": null,
   "metadata": {
    "ExecuteTime": {
     "end_time": "2017-04-05T13:51:27.624550",
     "start_time": "2017-04-05T15:51:27.612050+02:00"
    },
    "collapsed": false
   },
   "outputs": [],
   "source": [
    "rc.ids"
   ]
  },
  {
   "cell_type": "markdown",
   "metadata": {},
   "source": [
    "Here we see that there are four engines ready to do work for us.\n",
    "\n",
    "For direct execution, we will make use of a ``DirectView`` object, which can be constructed via list-access to the client:"
   ]
  },
  {
   "cell_type": "code",
   "execution_count": null,
   "metadata": {
    "ExecuteTime": {
     "end_time": "2017-04-05T13:51:28.280937",
     "start_time": "2017-04-05T15:51:28.276173+02:00"
    },
    "collapsed": true
   },
   "outputs": [],
   "source": [
    "dview = rc[:] # use all engines"
   ]
  },
  {
   "cell_type": "markdown",
   "metadata": {},
   "source": [
    "For more information, see the in-depth explanation of Views:\n",
    "\n",
    "http://ipyparallel.readthedocs.io/en/6.0.2/details.html#parallel-details"
   ]
  },
  {
   "cell_type": "markdown",
   "metadata": {},
   "source": [
    "## Quick and easy parallelism"
   ]
  },
  {
   "cell_type": "markdown",
   "metadata": {},
   "source": [
    "In many cases, you simply want to apply a Python function to a sequence of\n",
    "objects, but *in parallel*. The client interface provides a simple way\n",
    "of accomplishing this: using the DirectView's `DirectView.map` method."
   ]
  },
  {
   "cell_type": "markdown",
   "metadata": {},
   "source": [
    "### Parallel map\n"
   ]
  },
  {
   "cell_type": "markdown",
   "metadata": {},
   "source": [
    "Python’s builtin ``map()`` functions allows a function to be applied to a sequence element-by-element. This type of code is typically trivial to parallelize. In fact, since IPython’s interface is all about functions anyway, you can just use the builtin ``map()`` with a ``RemoteFunction``, or a DirectView’s ``map()`` method:"
   ]
  },
  {
   "cell_type": "code",
   "execution_count": null,
   "metadata": {
    "ExecuteTime": {
     "end_time": "2017-04-05T13:51:29.576429",
     "start_time": "2017-04-05T15:51:29.570779+02:00"
    },
    "collapsed": false
   },
   "outputs": [],
   "source": [
    "serial_result = list(map(lambda x:x**10, range(32)))"
   ]
  },
  {
   "cell_type": "code",
   "execution_count": null,
   "metadata": {
    "ExecuteTime": {
     "end_time": "2017-04-05T13:51:30.050542",
     "start_time": "2017-04-05T15:51:29.760698+02:00"
    },
    "collapsed": false
   },
   "outputs": [],
   "source": [
    "parallel_result = dview.map_sync(lambda x:x**10, range(32))"
   ]
  },
  {
   "cell_type": "code",
   "execution_count": null,
   "metadata": {
    "ExecuteTime": {
     "end_time": "2017-04-05T13:51:30.061925",
     "start_time": "2017-04-05T15:51:30.052666+02:00"
    },
    "collapsed": false
   },
   "outputs": [],
   "source": [
    "serial_result==parallel_result"
   ]
  },
  {
   "cell_type": "markdown",
   "metadata": {},
   "source": [
    "### Remote function decorators"
   ]
  },
  {
   "cell_type": "markdown",
   "metadata": {},
   "source": [
    "Remote functions are just like normal functions, but when they are called, they execute on one or more engines, rather than locally. IPython provides two decorators:"
   ]
  },
  {
   "cell_type": "code",
   "execution_count": null,
   "metadata": {
    "ExecuteTime": {
     "end_time": "2017-04-05T13:51:30.741002",
     "start_time": "2017-04-05T15:51:30.734967+02:00"
    },
    "collapsed": true
   },
   "outputs": [],
   "source": [
    "@dview.remote(block=True)\n",
    "def getpid():\n",
    "    '''\n",
    "    import library os and return the process number (pid) corresponding with\n",
    "    the execution\n",
    "    '''\n",
    "    import os\n",
    "    return os.getpid()"
   ]
  },
  {
   "cell_type": "code",
   "execution_count": null,
   "metadata": {
    "ExecuteTime": {
     "end_time": "2017-04-05T13:51:31.076767",
     "start_time": "2017-04-05T15:51:31.043471+02:00"
    },
    "collapsed": false
   },
   "outputs": [],
   "source": [
    "getpid()"
   ]
  },
  {
   "cell_type": "markdown",
   "metadata": {},
   "source": [
    "The ``@parallel`` decorator creates parallel functions, that break up an element-wise operations and distribute them, reconstructing the result."
   ]
  },
  {
   "cell_type": "code",
   "execution_count": null,
   "metadata": {
    "ExecuteTime": {
     "end_time": "2017-04-05T13:51:31.562268",
     "start_time": "2017-04-05T15:51:31.555839+02:00"
    },
    "collapsed": false
   },
   "outputs": [],
   "source": [
    "import numpy as np\n",
    "A = np.random.random((64,48))"
   ]
  },
  {
   "cell_type": "code",
   "execution_count": null,
   "metadata": {
    "ExecuteTime": {
     "end_time": "2017-04-05T13:51:31.849411",
     "start_time": "2017-04-05T15:51:31.843993+02:00"
    },
    "collapsed": true
   },
   "outputs": [],
   "source": [
    "@dview.parallel(block=True)\n",
    "def pmul(A,B):\n",
    "    return A*B"
   ]
  },
  {
   "cell_type": "code",
   "execution_count": null,
   "metadata": {
    "ExecuteTime": {
     "end_time": "2017-04-05T13:51:32.085650",
     "start_time": "2017-04-05T15:51:32.082041+02:00"
    },
    "collapsed": true
   },
   "outputs": [],
   "source": [
    "C_local = A*A"
   ]
  },
  {
   "cell_type": "code",
   "execution_count": null,
   "metadata": {
    "ExecuteTime": {
     "end_time": "2017-04-05T13:51:32.395725",
     "start_time": "2017-04-05T15:51:32.352551+02:00"
    },
    "collapsed": true
   },
   "outputs": [],
   "source": [
    "C_remote = pmul(A,A)"
   ]
  },
  {
   "cell_type": "code",
   "execution_count": null,
   "metadata": {
    "ExecuteTime": {
     "end_time": "2017-04-05T13:51:32.634465",
     "start_time": "2017-04-05T15:51:32.626921+02:00"
    },
    "collapsed": false
   },
   "outputs": [],
   "source": [
    "(C_local == C_remote).all()"
   ]
  },
  {
   "cell_type": "markdown",
   "metadata": {},
   "source": [
    "Calling a ``@parallel`` function does not correspond to map. It is used for splitting element-wise operations that operate on a sequence or array. For ``map`` behaviour, parallel functions do have a map method.\n",
    "\n",
    "|call                |    pfunc(seq)                 |     pfunc.map(seq)\n",
    "|--------------------|-------------------------------|-------------------------------\n",
    "|# of tasks          |    # of engines (1 per engine)|     # of engines (1 per engine)\n",
    "|# of remote calls   |    # of engines (1 per engine)|     ``len(seq)``\n",
    "|argument to remote  |    ``seq[i:j]`` (sub-sequence)|     ``seq[i]`` (single element)\n",
    "\n",
    "A quick example to illustrate the difference in arguments for the two modes:"
   ]
  },
  {
   "cell_type": "code",
   "execution_count": null,
   "metadata": {
    "ExecuteTime": {
     "end_time": "2017-04-05T13:51:33.266275",
     "start_time": "2017-04-05T15:51:33.260999+02:00"
    },
    "collapsed": true
   },
   "outputs": [],
   "source": [
    "@dview.parallel(block=True)\n",
    "def echo(x):\n",
    "     return str(x)"
   ]
  },
  {
   "cell_type": "code",
   "execution_count": null,
   "metadata": {
    "ExecuteTime": {
     "end_time": "2017-04-05T13:51:33.597695",
     "start_time": "2017-04-05T15:51:33.571584+02:00"
    },
    "collapsed": false
   },
   "outputs": [],
   "source": [
    "echo(range(5))"
   ]
  },
  {
   "cell_type": "code",
   "execution_count": null,
   "metadata": {
    "ExecuteTime": {
     "end_time": "2017-04-05T13:51:33.901355",
     "start_time": "2017-04-05T15:51:33.872189+02:00"
    },
    "collapsed": false
   },
   "outputs": [],
   "source": [
    "echo.map(range(5))"
   ]
  },
  {
   "cell_type": "markdown",
   "metadata": {
    "collapsed": true
   },
   "source": [
    "## Calling Python functions"
   ]
  },
  {
   "cell_type": "markdown",
   "metadata": {},
   "source": [
    "The most basic type of operation that can be performed on the engines is to execute Python code or call Python functions. Executing Python code can be done in blocking or non-blocking mode (non-blocking is default) using the ``View.execute()`` method, and calling functions can be done via the ``View.apply()`` method."
   ]
  },
  {
   "cell_type": "markdown",
   "metadata": {},
   "source": [
    "### apply"
   ]
  },
  {
   "cell_type": "markdown",
   "metadata": {},
   "source": [
    "The main method for doing remote execution (in fact, all methods that communicate with the engines are built on top of it), is ``View.apply()``.\n",
    "\n",
    "```\n",
    "view.apply(f, *args, **kwargs)\n",
    "```\n",
    "\n",
    "available methods:"
   ]
  },
  {
   "cell_type": "code",
   "execution_count": null,
   "metadata": {
    "ExecuteTime": {
     "end_time": "2017-04-05T13:51:35.099679",
     "start_time": "2017-04-05T15:51:35.093653+02:00"
    },
    "collapsed": false
   },
   "outputs": [],
   "source": [
    "[x for x in dir(dview) if x.startswith('apply')]"
   ]
  },
  {
   "cell_type": "markdown",
   "metadata": {},
   "source": [
    "There are various ways to call functions with IPython, and these flags are set as attributes of the View. The ``DirectView`` has just two of these flags:\n",
    "\n",
    "**dv.block**\n",
    "\n",
    ": bool\n",
    "\n",
    "    whether to wait for the result, or return an AsyncResult object immediately\n",
    "    \n",
    "**dv.track**\n",
    "\n",
    ": bool\n",
    "\n",
    "    whether to instruct pyzmq to track when zeromq is done sending the message. This is primarily useful for non-copying sends of numpy arrays that you plan to edit in-place. You need to know when it becomes safe to edit the buffer without corrupting the message.\n",
    "    \n",
    "**dv.targets**\n",
    "\n",
    ": int, list of ints\n",
    "\n",
    "    which targets this view is associated with."
   ]
  },
  {
   "cell_type": "markdown",
   "metadata": {},
   "source": [
    "### Blocking execution"
   ]
  },
  {
   "cell_type": "markdown",
   "metadata": {},
   "source": [
    "In blocking mode, the ``DirectView`` object (called ``dview`` in these examples) submits the command to the controller, which places the command in the engines’ queues for execution. The ``apply()`` call then blocks until the engines are done executing the command:"
   ]
  },
  {
   "cell_type": "code",
   "execution_count": null,
   "metadata": {
    "ExecuteTime": {
     "end_time": "2017-04-05T13:51:35.915039",
     "start_time": "2017-04-05T15:51:35.812506+02:00"
    },
    "collapsed": false
   },
   "outputs": [],
   "source": [
    "# A DirectView of all engines\n",
    "# in comment, because we did this in the beginning of this notebook\n",
    "#dview = rc[:]\n",
    "dview.block = True\n",
    "dview['a'] = 5\n",
    "dview['b'] = 10\n",
    "dview.apply(lambda x: a+b+x, 27)"
   ]
  },
  {
   "cell_type": "markdown",
   "metadata": {},
   "source": [
    "You can also select blocking execution on a call-by-call basis with the ``apply_sync()`` method:"
   ]
  },
  {
   "cell_type": "code",
   "execution_count": null,
   "metadata": {
    "ExecuteTime": {
     "end_time": "2017-04-05T13:51:36.189440",
     "start_time": "2017-04-05T15:51:36.162121+02:00"
    },
    "collapsed": false
   },
   "outputs": [],
   "source": [
    "dview.block = False\n",
    "dview.apply_sync(lambda x: a+b+x, 27)"
   ]
  },
  {
   "cell_type": "markdown",
   "metadata": {},
   "source": [
    "Python commands can be executed as strings on specific engines by using a View’s ``execute`` method:\n",
    "\n",
    "**check how the view are generated on the Client object (rc) !**"
   ]
  },
  {
   "cell_type": "code",
   "execution_count": null,
   "metadata": {
    "ExecuteTime": {
     "end_time": "2017-04-05T13:51:36.525552",
     "start_time": "2017-04-05T15:51:36.515394+02:00"
    },
    "collapsed": false
   },
   "outputs": [],
   "source": [
    "rc[::2].execute('c=a+b')"
   ]
  },
  {
   "cell_type": "code",
   "execution_count": null,
   "metadata": {
    "ExecuteTime": {
     "end_time": "2017-04-05T13:51:36.712158",
     "start_time": "2017-04-05T15:51:36.703706+02:00"
    },
    "collapsed": false
   },
   "outputs": [],
   "source": [
    "rc[1::2].execute('c=a-b')"
   ]
  },
  {
   "cell_type": "code",
   "execution_count": null,
   "metadata": {
    "ExecuteTime": {
     "end_time": "2017-04-05T13:51:37.013100",
     "start_time": "2017-04-05T15:51:36.978502+02:00"
    },
    "collapsed": false
   },
   "outputs": [],
   "source": [
    "dview['c'] # shorthand for dview.pull('c', block=True)"
   ]
  },
  {
   "cell_type": "markdown",
   "metadata": {},
   "source": [
    "### Non-blocking execution\n",
    "\n"
   ]
  },
  {
   "cell_type": "markdown",
   "metadata": {},
   "source": [
    "In non-blocking mode, ``apply()`` submits the command to be executed and then returns a ``AsyncResult`` object immediately. The ``AsyncResult`` object gives you a way of getting a result at a later time through its ``get()`` method.\n",
    "\n",
    "More info on the ``AsyncResult`` object:\n",
    "http://ipyparallel.readthedocs.io/en/6.0.2/asyncresult.html#parallel-asyncresult\n",
    "\n",
    "This allows you to quickly submit long running commands without blocking your local Python/IPython session:"
   ]
  },
  {
   "cell_type": "code",
   "execution_count": null,
   "metadata": {
    "ExecuteTime": {
     "end_time": "2017-04-05T13:51:39.492916",
     "start_time": "2017-04-05T15:51:39.488218+02:00"
    },
    "collapsed": true
   },
   "outputs": [],
   "source": [
    "# define our function\n",
    "def wait(t):\n",
    "    import time\n",
    "    tic = time.time()\n",
    "    time.sleep(t)\n",
    "    return time.time()-tic"
   ]
  },
  {
   "cell_type": "code",
   "execution_count": null,
   "metadata": {
    "ExecuteTime": {
     "end_time": "2017-04-05T13:51:39.707346",
     "start_time": "2017-04-05T15:51:39.693796+02:00"
    },
    "collapsed": true
   },
   "outputs": [],
   "source": [
    "# In non-blocking mode\n",
    "ar = dview.apply_async(wait, 2)"
   ]
  },
  {
   "cell_type": "code",
   "execution_count": null,
   "metadata": {
    "ExecuteTime": {
     "end_time": "2017-04-05T13:51:41.725725",
     "start_time": "2017-04-05T15:51:39.872976+02:00"
    },
    "collapsed": false
   },
   "outputs": [],
   "source": [
    "# Now block for the result\n",
    "ar.get()"
   ]
  },
  {
   "cell_type": "code",
   "execution_count": null,
   "metadata": {
    "ExecuteTime": {
     "end_time": "2017-04-05T13:51:41.752516",
     "start_time": "2017-04-05T15:51:41.728964+02:00"
    },
    "collapsed": true
   },
   "outputs": [],
   "source": [
    "# Again in non-blocking mode\n",
    "ar = dview.apply_async(wait, 10)"
   ]
  },
  {
   "cell_type": "code",
   "execution_count": null,
   "metadata": {
    "ExecuteTime": {
     "end_time": "2017-04-05T13:51:54.228274",
     "start_time": "2017-04-05T15:51:54.224183+02:00"
    },
    "collapsed": false
   },
   "outputs": [],
   "source": [
    "# Poll to see if the result is ready\n",
    "ar.ready()"
   ]
  },
  {
   "cell_type": "code",
   "execution_count": null,
   "metadata": {
    "ExecuteTime": {
     "end_time": "2017-04-05T13:51:54.397303",
     "start_time": "2017-04-05T15:51:54.390976+02:00"
    },
    "collapsed": false
   },
   "outputs": [],
   "source": [
    "# ask for the result, but wait a maximum of 1 second:\n",
    "ar.get(1)"
   ]
  },
  {
   "cell_type": "markdown",
   "metadata": {},
   "source": [
    "**Note**\n",
    "\n",
    "```\n",
    "Note the import inside the function. This is a common model, to ensure that the appropriate modules are imported where the task is run. You can also manually import modules into the engine(s) namespace(s) via view.execute(‘import numpy’).\n",
    "```\n",
    "\n",
    "Often, it is desirable to wait until a set of ``AsyncResult`` objects are done. For this, there is a the method ``wait()``. This method takes a tuple of ``AsyncResult`` objects (or msg_ids or indices to the client’s History), and blocks until all of the associated results are ready:"
   ]
  },
  {
   "cell_type": "code",
   "execution_count": null,
   "metadata": {
    "ExecuteTime": {
     "end_time": "2017-04-05T13:52:25.788931",
     "start_time": "2017-04-05T15:51:55.638022+02:00"
    },
    "collapsed": false
   },
   "outputs": [],
   "source": [
    "dview.block=False\n",
    "# A trivial list of AsyncResults objects\n",
    "pr_list = [dview.apply_async(wait, 3) for i in range(10)]\n",
    "# Wait until all of them are done\n",
    "dview.wait(pr_list)\n",
    "# Then, their results are ready using get() or the `.r` attribute\n",
    "pr_list[0].get()"
   ]
  },
  {
   "cell_type": "markdown",
   "metadata": {},
   "source": [
    "### The block and targets keyword arguments and attributes"
   ]
  },
  {
   "cell_type": "markdown",
   "metadata": {},
   "source": [
    "Most DirectView methods (excluding ``apply()``) accept ``block`` and ``targets`` as keyword arguments. As we have seen above, these keyword arguments control the blocking mode and which engines the command is applied to. The ``View`` class also has ``block`` and ``targets`` attributes that control the default behavior when the keyword arguments are not provided. Thus the following logic is used for ``block`` and ``targets``:\n",
    "\n",
    "- If no keyword argument is provided, the instance attributes are used.\n",
    "- The Keyword arguments, if provided overrides the instance attributes for the duration of a single call.\n",
    "\n",
    "The following examples demonstrate how to use the instance attributes:\n",
    "\n"
   ]
  },
  {
   "cell_type": "code",
   "execution_count": null,
   "metadata": {
    "ExecuteTime": {
     "end_time": "2017-04-05T13:52:45.531750",
     "start_time": "2017-04-05T15:52:45.510134+02:00"
    },
    "collapsed": false
   },
   "outputs": [],
   "source": [
    "dview.targets = [0,2]\n",
    "dview.block = False\n",
    "ar = dview.apply(lambda : 10)\n",
    "ar.get()"
   ]
  },
  {
   "cell_type": "code",
   "execution_count": null,
   "metadata": {
    "ExecuteTime": {
     "end_time": "2017-04-05T13:52:46.058739",
     "start_time": "2017-04-05T15:52:46.023305+02:00"
    },
    "collapsed": false
   },
   "outputs": [],
   "source": [
    "dview.targets = rc.ids # all engines (4)\n",
    "dview.block = True\n",
    "dview.apply(lambda : 42)"
   ]
  },
  {
   "cell_type": "markdown",
   "metadata": {},
   "source": [
    "The ``block`` and ``targets`` instance attributes of the ``DirectView`` also determine the behavior of the parallel magic commands."
   ]
  },
  {
   "cell_type": "markdown",
   "metadata": {},
   "source": [
    "## Moving Python objects around"
   ]
  },
  {
   "cell_type": "markdown",
   "metadata": {},
   "source": [
    "In addition to calling functions and executing code on engines, you can transfer Python objects to and from your IPython session and the engines. In IPython, these operations are called ``push()`` (sending an object to the engines) and ``pull()`` (getting an object from the engines)."
   ]
  },
  {
   "cell_type": "markdown",
   "metadata": {},
   "source": [
    "### basic push and pull"
   ]
  },
  {
   "cell_type": "code",
   "execution_count": null,
   "metadata": {
    "ExecuteTime": {
     "end_time": "2017-04-05T13:52:47.787327",
     "start_time": "2017-04-05T15:52:47.758728+02:00"
    },
    "collapsed": false
   },
   "outputs": [],
   "source": [
    "dview.push(dict(a=1.03234,b=3453))"
   ]
  },
  {
   "cell_type": "code",
   "execution_count": null,
   "metadata": {
    "ExecuteTime": {
     "end_time": "2017-04-05T13:52:48.158590",
     "start_time": "2017-04-05T15:52:48.130090+02:00"
    },
    "collapsed": false
   },
   "outputs": [],
   "source": [
    "dview.pull('a')"
   ]
  },
  {
   "cell_type": "code",
   "execution_count": null,
   "metadata": {
    "ExecuteTime": {
     "end_time": "2017-04-05T13:52:48.577820",
     "start_time": "2017-04-05T15:52:48.560185+02:00"
    },
    "collapsed": false
   },
   "outputs": [],
   "source": [
    "dview.pull('b', targets=0)"
   ]
  },
  {
   "cell_type": "code",
   "execution_count": null,
   "metadata": {
    "ExecuteTime": {
     "end_time": "2017-04-05T13:52:48.913411",
     "start_time": "2017-04-05T15:52:48.877086+02:00"
    },
    "collapsed": false
   },
   "outputs": [],
   "source": [
    "dview.pull(('a','b'))"
   ]
  },
  {
   "cell_type": "code",
   "execution_count": null,
   "metadata": {
    "ExecuteTime": {
     "end_time": "2017-04-05T13:52:49.216263",
     "start_time": "2017-04-05T15:52:49.185223+02:00"
    },
    "collapsed": false
   },
   "outputs": [],
   "source": [
    "dview.push(dict(c='speed'))"
   ]
  },
  {
   "cell_type": "markdown",
   "metadata": {},
   "source": [
    "In non-blocking mode ``push()`` and ``pull()`` also return ``AsyncResult`` objects:"
   ]
  },
  {
   "cell_type": "code",
   "execution_count": null,
   "metadata": {
    "ExecuteTime": {
     "end_time": "2017-04-05T13:52:49.647352",
     "start_time": "2017-04-05T15:52:49.612196+02:00"
    },
    "collapsed": false
   },
   "outputs": [],
   "source": [
    "ar = dview.pull('a', block=False)\n",
    "ar.get()"
   ]
  },
  {
   "cell_type": "markdown",
   "metadata": {
    "ExecuteTime": {
     "end_time": "2017-04-05T13:11:54.615712",
     "start_time": "2017-04-05T15:11:54.609546+02:00"
    }
   },
   "source": [
    "### Dictionary interface\n"
   ]
  },
  {
   "cell_type": "markdown",
   "metadata": {},
   "source": [
    "Since a Python namespace is just a ``dict``, ``DirectView`` objects provide dictionary-style access by key and methods such as ``get()`` and ``update()`` for convenience. This make the remote namespaces of the engines appear as a local dictionary. Underneath, these methods call ``apply()``:"
   ]
  },
  {
   "cell_type": "code",
   "execution_count": null,
   "metadata": {
    "ExecuteTime": {
     "end_time": "2017-04-05T13:52:50.257647",
     "start_time": "2017-04-05T15:52:50.206532+02:00"
    },
    "collapsed": false
   },
   "outputs": [],
   "source": [
    "dview['a']=['foo','bar']\n",
    "dview['a']"
   ]
  },
  {
   "cell_type": "markdown",
   "metadata": {
    "ExecuteTime": {
     "end_time": "2017-04-05T13:13:02.982767",
     "start_time": "2017-04-05T15:13:02.946680+02:00"
    }
   },
   "source": [
    "### Scatter and gather"
   ]
  },
  {
   "cell_type": "markdown",
   "metadata": {},
   "source": [
    "Sometimes it is useful to partition a sequence and push the partitions to different engines. In MPI language, this is know as scatter/gather and we follow that terminology. However, it is important to remember that in IPython’s Client class, scatter() is from the interactive IPython session to the engines and gather() is from the engines back to the interactive IPython session. For scatter/gather operations between engines, MPI, pyzmq, or some other direct interconnect should be used."
   ]
  },
  {
   "cell_type": "code",
   "execution_count": null,
   "metadata": {
    "ExecuteTime": {
     "end_time": "2017-04-05T13:52:50.822974",
     "start_time": "2017-04-05T15:52:50.797465+02:00"
    },
    "collapsed": false
   },
   "outputs": [],
   "source": [
    "dview.scatter('a',range(16))"
   ]
  },
  {
   "cell_type": "code",
   "execution_count": null,
   "metadata": {
    "ExecuteTime": {
     "end_time": "2017-04-05T13:52:51.004272",
     "start_time": "2017-04-05T15:52:50.975924+02:00"
    },
    "collapsed": false
   },
   "outputs": [],
   "source": [
    "dview['a']"
   ]
  },
  {
   "cell_type": "code",
   "execution_count": null,
   "metadata": {
    "ExecuteTime": {
     "end_time": "2017-04-05T13:52:51.199713",
     "start_time": "2017-04-05T15:52:51.171269+02:00"
    },
    "collapsed": false
   },
   "outputs": [],
   "source": [
    "dview.gather('a')"
   ]
  },
  {
   "cell_type": "markdown",
   "metadata": {},
   "source": [
    "### AsyncResults have metadata"
   ]
  },
  {
   "cell_type": "code",
   "execution_count": null,
   "metadata": {
    "ExecuteTime": {
     "end_time": "2017-04-05T13:52:53.560854",
     "start_time": "2017-04-05T15:52:51.535657+02:00"
    },
    "collapsed": false
   },
   "outputs": [],
   "source": [
    "# In non-blocking mode\n",
    "dview.block = False\n",
    "ar = dview.apply_async(wait, 2)\n",
    "ar.get()\n",
    "ar.metadata"
   ]
  },
  {
   "cell_type": "markdown",
   "metadata": {
    "ExecuteTime": {
     "end_time": "2017-04-05T13:15:49.170257",
     "start_time": "2017-04-05T15:15:49.157191+02:00"
    }
   },
   "source": [
    "## Other things to look at"
   ]
  },
  {
   "cell_type": "markdown",
   "metadata": {},
   "source": [
    "### How to do parallel list comprehensions\n",
    "\n"
   ]
  },
  {
   "cell_type": "markdown",
   "metadata": {},
   "source": [
    "In many cases list comprehensions are nicer than using the map function. While we don’t have fully parallel list comprehensions, it is simple to get the basic effect using scatter() and gather():\n",
    "\n",
    "The %px magic executes a single Python command on the engines specified by the targets attribute of the DirectView instance"
   ]
  },
  {
   "cell_type": "code",
   "execution_count": null,
   "metadata": {
    "ExecuteTime": {
     "end_time": "2017-04-05T13:52:53.640981",
     "start_time": "2017-04-05T15:52:53.564566+02:00"
    },
    "collapsed": false
   },
   "outputs": [],
   "source": [
    "dview.scatter('x',range(64))\n",
    "#Parallel execution on engines: [0, 1, 2, 3]\n",
    "%px y = [i**10 for i in x]\n",
    "y = dview.gather('y')\n",
    "print(y)"
   ]
  },
  {
   "cell_type": "markdown",
   "metadata": {
    "ExecuteTime": {
     "end_time": "2017-04-05T13:16:51.477567",
     "start_time": "2017-04-05T15:16:51.440379+02:00"
    }
   },
   "source": [
    "### Remote imports"
   ]
  },
  {
   "cell_type": "markdown",
   "metadata": {
    "ExecuteTime": {
     "end_time": "2017-04-05T13:16:58.515945",
     "start_time": "2017-04-05T15:16:58.485690+02:00"
    }
   },
   "source": [
    "Sometimes you will want to import packages both in your interactive session and on your remote engines. This can be done with the ContextManager created by a DirectView’s sync_imports() method:"
   ]
  },
  {
   "cell_type": "code",
   "execution_count": null,
   "metadata": {
    "ExecuteTime": {
     "end_time": "2017-04-05T13:52:53.709894",
     "start_time": "2017-04-05T15:52:53.649050+02:00"
    },
    "collapsed": false
   },
   "outputs": [],
   "source": [
    "with dview.sync_imports():\n",
    "    import numpy"
   ]
  },
  {
   "cell_type": "markdown",
   "metadata": {},
   "source": [
    "Any imports made inside the block will also be performed on the view’s engines. sync_imports also takes a local boolean flag that defaults to True, which specifies whether the local imports should also be performed. However, support for local=False has not been implemented, so only packages that can be imported locally will work this way. Note that the usual renaming of the import handle in the same line like in import matplotlib.pyplot as plt’ does not work on the remote engine, the `as plt is ignored remotely, while it executes locally. One could rename the remote handle with %px plt = pyplot though after the import.\n",
    "\n",
    "You can also specify imports via the @require decorator. This is a decorator designed for use in Dependencies, but can be used to handle remote imports as well. Modules or module names passed to @require will be imported before the decorated function is called. If they cannot be imported, the decorated function will never execute and will fail with an UnmetDependencyError. Failures of single Engines will be collected and raise a CompositeError, as demonstrated in the next section."
   ]
  },
  {
   "cell_type": "code",
   "execution_count": null,
   "metadata": {
    "ExecuteTime": {
     "end_time": "2017-04-05T13:52:53.718245",
     "start_time": "2017-04-05T15:52:53.714393+02:00"
    },
    "collapsed": true
   },
   "outputs": [],
   "source": [
    "from ipyparallel import require"
   ]
  },
  {
   "cell_type": "code",
   "execution_count": null,
   "metadata": {
    "ExecuteTime": {
     "end_time": "2017-04-05T13:52:53.740426",
     "start_time": "2017-04-05T15:52:53.727516+02:00"
    },
    "collapsed": true
   },
   "outputs": [],
   "source": [
    "@require('re')\n",
    "def findall(pat, x):\n",
    "    # re is guaranteed to be available\n",
    "    return re.findall(pat, x)"
   ]
  },
  {
   "cell_type": "code",
   "execution_count": null,
   "metadata": {
    "ExecuteTime": {
     "end_time": "2017-04-05T13:52:53.927923",
     "start_time": "2017-04-05T15:52:53.922568+02:00"
    },
    "collapsed": false
   },
   "outputs": [],
   "source": [
    "import time\n",
    "# you can also pass modules themselves, that you already have locally:\n",
    "@require(time)\n",
    "def wait(t):\n",
    "    time.sleep(t)\n",
    "    return t"
   ]
  },
  {
   "cell_type": "markdown",
   "metadata": {},
   "source": [
    "**important note to remember**\n",
    "\n",
    "```\n",
    "sync_imports() does not allow import foo as bar syntax, because the assignment represented by the as bar part is not available to the import hook.\n",
    "```"
   ]
  },
  {
   "cell_type": "markdown",
   "metadata": {},
   "source": [
    "### Parallel exceptions"
   ]
  },
  {
   "cell_type": "markdown",
   "metadata": {},
   "source": [
    "In the multiengine interface, parallel commands can raise Python exceptions, just like serial commands. But it is a little subtle, because a single parallel command can actually raise multiple exceptions (one for each engine the command was run on). To express this idea, we have a CompositeError exception class that will be raised in most cases. The CompositeError class is a special type of exception that wraps one or more other types of exceptions. Here is how it works:"
   ]
  },
  {
   "cell_type": "code",
   "execution_count": null,
   "metadata": {
    "ExecuteTime": {
     "end_time": "2017-04-05T13:52:55.214467",
     "start_time": "2017-04-05T15:52:54.980190+02:00"
    },
    "collapsed": false
   },
   "outputs": [],
   "source": [
    "dview.block = True\n",
    "dview.execute(\"1/0\")"
   ]
  },
  {
   "cell_type": "markdown",
   "metadata": {},
   "source": [
    "Notice how the error message printed when CompositeError is raised has information about the individual exceptions that were raised on each engine. If you want, you can even raise one of these original exceptions:"
   ]
  },
  {
   "cell_type": "code",
   "execution_count": null,
   "metadata": {
    "ExecuteTime": {
     "end_time": "2017-04-05T13:52:55.406636",
     "start_time": "2017-04-05T15:52:55.363746+02:00"
    },
    "collapsed": false
   },
   "outputs": [],
   "source": [
    "from ipyparallel import CompositeError\n",
    "\n",
    "try:\n",
    "    dview.execute('1/0', block=True)\n",
    "except CompositeError as e:\n",
    "    e.raise_exception()"
   ]
  },
  {
   "cell_type": "markdown",
   "metadata": {},
   "source": [
    "Since you might have 100 engines, you probably don’t want to see 100 tracebacks for a simple NameError because of a typo. For this reason, CompositeError truncates the list of exceptions it will print to CompositeError.tb_limit (default is five). You can change this limit to suit your needs with:"
   ]
  },
  {
   "cell_type": "code",
   "execution_count": null,
   "metadata": {
    "ExecuteTime": {
     "end_time": "2017-04-05T13:52:56.227452",
     "start_time": "2017-04-05T15:52:56.179975+02:00"
    },
    "collapsed": false
   },
   "outputs": [],
   "source": [
    "from ipyparallel import CompositeError\n",
    "CompositeError.tb_limit = 1\n",
    "%px x=z"
   ]
  },
  {
   "cell_type": "markdown",
   "metadata": {},
   "source": [
    "All of this same error handling magic even works in non-blocking mode:"
   ]
  },
  {
   "cell_type": "code",
   "execution_count": null,
   "metadata": {
    "ExecuteTime": {
     "end_time": "2017-04-05T13:52:56.802979",
     "start_time": "2017-04-05T15:52:56.767051+02:00"
    },
    "collapsed": false
   },
   "outputs": [],
   "source": [
    "dview.block=False\n",
    "ar = dview.execute('1/0')\n",
    "ar.get()"
   ]
  }
 ],
 "metadata": {
  "anaconda-cloud": {},
  "hide_input": false,
  "kernelspec": {
   "display_name": "Python [conda env:ipyparallelseminar]",
   "language": "python",
   "name": "conda-env-ipyparallelseminar-py"
  },
  "language_info": {
   "codemirror_mode": {
    "name": "ipython",
    "version": 3
   },
   "file_extension": ".py",
   "mimetype": "text/x-python",
   "name": "python",
   "nbconvert_exporter": "python",
   "pygments_lexer": "ipython3",
   "version": "3.6.1"
  },
  "toc": {
   "toc_cell": true,
   "toc_number_sections": true,
   "toc_section_display": "none",
   "toc_threshold": 6,
   "toc_window_display": true
  },
  "toc_position": {
   "height": "42px",
   "left": "1719.38px",
   "right": "20px",
   "top": "120px",
   "width": "183px"
  }
 },
 "nbformat": 4,
 "nbformat_minor": 2
}
