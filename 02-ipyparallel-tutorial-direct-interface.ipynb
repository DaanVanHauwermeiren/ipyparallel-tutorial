{
 "cells": [
  {
   "cell_type": "markdown",
   "metadata": {
    "toc": "true"
   },
   "source": [
    "# Table of Contents\n",
    " <p><div class=\"lev1\"><a href=\"#IPython’s-Direct-interface\"><span class=\"toc-item-num\">1&nbsp;&nbsp;</span>IPython’s Direct interface</a></div><div class=\"lev2\"><a href=\"#Starting-the-IPython-controller-and-engines\"><span class=\"toc-item-num\">1.1&nbsp;&nbsp;</span>Starting the IPython controller and engines</a></div><div class=\"lev2\"><a href=\"#Creating-a-DirectView-instance\"><span class=\"toc-item-num\">1.2&nbsp;&nbsp;</span>Creating a <code>DirectView</code> instance</a></div><div class=\"lev2\"><a href=\"#Quick-and-easy-parallelism\"><span class=\"toc-item-num\">1.3&nbsp;&nbsp;</span>Quick and easy parallelism</a></div><div class=\"lev3\"><a href=\"#Parallel-map\"><span class=\"toc-item-num\">1.3.1&nbsp;&nbsp;</span>Parallel map</a></div><div class=\"lev3\"><a href=\"#Remote-function-decorators\"><span class=\"toc-item-num\">1.3.2&nbsp;&nbsp;</span>Remote function decorators</a></div><div class=\"lev2\"><a href=\"#Calling-Python-functions\"><span class=\"toc-item-num\">1.4&nbsp;&nbsp;</span>Calling Python functions</a></div><div class=\"lev3\"><a href=\"#apply\"><span class=\"toc-item-num\">1.4.1&nbsp;&nbsp;</span>apply</a></div><div class=\"lev3\"><a href=\"#Blocking-execution\"><span class=\"toc-item-num\">1.4.2&nbsp;&nbsp;</span>Blocking execution</a></div><div class=\"lev3\"><a href=\"#Non-blocking-execution\"><span class=\"toc-item-num\">1.4.3&nbsp;&nbsp;</span>Non-blocking execution</a></div><div class=\"lev3\"><a href=\"#The-block-and-targets-keyword-arguments-and-attributes\"><span class=\"toc-item-num\">1.4.4&nbsp;&nbsp;</span>The block and targets keyword arguments and attributes</a></div><div class=\"lev2\"><a href=\"#Moving-Python-objects-around\"><span class=\"toc-item-num\">1.5&nbsp;&nbsp;</span>Moving Python objects around</a></div><div class=\"lev3\"><a href=\"#basic-push-and-pull\"><span class=\"toc-item-num\">1.5.1&nbsp;&nbsp;</span>basic push and pull</a></div><div class=\"lev3\"><a href=\"#Dictionary-interface\"><span class=\"toc-item-num\">1.5.2&nbsp;&nbsp;</span>Dictionary interface</a></div><div class=\"lev3\"><a href=\"#Scatter-and-gather\"><span class=\"toc-item-num\">1.5.3&nbsp;&nbsp;</span>Scatter and gather</a></div><div class=\"lev3\"><a href=\"#AsyncResults-have-metadata\"><span class=\"toc-item-num\">1.5.4&nbsp;&nbsp;</span>AsyncResults have metadata</a></div><div class=\"lev2\"><a href=\"#Other-things-to-look-at\"><span class=\"toc-item-num\">1.6&nbsp;&nbsp;</span>Other things to look at</a></div><div class=\"lev3\"><a href=\"#How-to-do-parallel-list-comprehensions\"><span class=\"toc-item-num\">1.6.1&nbsp;&nbsp;</span>How to do parallel list comprehensions</a></div><div class=\"lev3\"><a href=\"#Remote-imports\"><span class=\"toc-item-num\">1.6.2&nbsp;&nbsp;</span>Remote imports</a></div><div class=\"lev3\"><a href=\"#Parallel-exceptions\"><span class=\"toc-item-num\">1.6.3&nbsp;&nbsp;</span>Parallel exceptions</a></div><div class=\"lev2\"><a href=\"#example:-monte-carlo-approximation-of-pi\"><span class=\"toc-item-num\">1.7&nbsp;&nbsp;</span>example: monte carlo approximation of pi</a></div>"
   ]
  },
  {
   "cell_type": "markdown",
   "metadata": {},
   "source": [
    "# IPython’s Direct interface"
   ]
  },
  {
   "cell_type": "markdown",
   "metadata": {},
   "source": [
    "The direct, or multiengine, interface represents one possible way of working with a set of IPython engines. The basic idea behind the multiengine interface is that the capabilities of each engine are directly and explicitly exposed to the user. Thus, in the multiengine interface, each engine is given an id that is used to identify the engine and give it work to do. This interface is very intuitive and is designed with interactive usage in mind, and is the best place for new users of IPython to begin."
   ]
  },
  {
   "cell_type": "markdown",
   "metadata": {},
   "source": [
    "## Starting the IPython controller and engines"
   ]
  },
  {
   "cell_type": "markdown",
   "metadata": {},
   "source": [
    "To follow along with this tutorial, you will need to start the IPython\n",
    "controller and four IPython engines. The simplest way of doing this is to use\n",
    "the `ipcluster`:\n",
    "\n",
    "    $ ipcluster start --n=4 --profile='direct-view'\n",
    "\n",
    "The name of the profile is of no importance. But I advise to use different names for different notebooks: this lessens the amount of possible confusion of which cluster is running the jobs for which notebook."
   ]
  },
  {
   "cell_type": "markdown",
   "metadata": {
    "ExecuteTime": {
     "end_time": "2017-04-05T10:03:02.803333",
     "start_time": "2017-04-05T12:03:02.799324+02:00"
    }
   },
   "source": [
    "## Creating a ```DirectView``` instance"
   ]
  },
  {
   "cell_type": "markdown",
   "metadata": {},
   "source": [
    "The first step is to import the IPython ```ipyparallel``` module and then create a Client instance:\n",
    "\n"
   ]
  },
  {
   "cell_type": "code",
   "execution_count": 1,
   "metadata": {
    "ExecuteTime": {
     "end_time": "2017-04-14T12:13:32.619032",
     "start_time": "2017-04-14T14:13:32.595619+02:00"
    },
    "collapsed": false
   },
   "outputs": [],
   "source": [
    "from ipyparallel import Client\n",
    "rc = Client(profile='direct-view')"
   ]
  },
  {
   "cell_type": "markdown",
   "metadata": {},
   "source": [
    "To make sure there are engines connected to the controller, users can get a list of engine ids:"
   ]
  },
  {
   "cell_type": "code",
   "execution_count": 2,
   "metadata": {
    "ExecuteTime": {
     "end_time": "2017-04-14T12:13:32.636440",
     "start_time": "2017-04-14T14:13:32.621707+02:00"
    },
    "collapsed": false
   },
   "outputs": [
    {
     "data": {
      "text/plain": [
       "[0, 1, 2, 3]"
      ]
     },
     "execution_count": 2,
     "metadata": {},
     "output_type": "execute_result"
    }
   ],
   "source": [
    "rc.ids"
   ]
  },
  {
   "cell_type": "markdown",
   "metadata": {},
   "source": [
    "Here we see that there are four engines ready to do work for us.\n",
    "\n",
    "For direct execution, we will make use of a ``DirectView`` object, which can be constructed via list-access to the client:"
   ]
  },
  {
   "cell_type": "code",
   "execution_count": 3,
   "metadata": {
    "ExecuteTime": {
     "end_time": "2017-04-14T12:13:32.649841",
     "start_time": "2017-04-14T14:13:32.638891+02:00"
    },
    "collapsed": true
   },
   "outputs": [],
   "source": [
    "dview = rc[:] # use all engines"
   ]
  },
  {
   "cell_type": "markdown",
   "metadata": {},
   "source": [
    "For more information, see the in-depth explanation of Views:\n",
    "\n",
    "http://ipyparallel.readthedocs.io/en/6.0.2/details.html#parallel-details"
   ]
  },
  {
   "cell_type": "markdown",
   "metadata": {},
   "source": [
    "## Quick and easy parallelism"
   ]
  },
  {
   "cell_type": "markdown",
   "metadata": {},
   "source": [
    "In many cases, you simply want to apply a Python function to a sequence of\n",
    "objects, but *in parallel*. The client interface provides a simple way\n",
    "of accomplishing this: using the DirectView's `DirectView.map` method."
   ]
  },
  {
   "cell_type": "markdown",
   "metadata": {},
   "source": [
    "### Parallel map\n"
   ]
  },
  {
   "cell_type": "markdown",
   "metadata": {},
   "source": [
    "Python’s builtin ``map()`` functions allows a function to be applied to a sequence element-by-element. This type of code is typically trivial to parallelize. In fact, since IPython’s interface is all about functions anyway, you can just use the builtin ``map()`` with a ``RemoteFunction``, or a DirectView’s ``map()`` method:"
   ]
  },
  {
   "cell_type": "code",
   "execution_count": 4,
   "metadata": {
    "ExecuteTime": {
     "end_time": "2017-04-14T12:13:32.667044",
     "start_time": "2017-04-14T14:13:32.652278+02:00"
    },
    "collapsed": false
   },
   "outputs": [
    {
     "name": "stdout",
     "output_type": "stream",
     "text": [
      "CPU times: user 0 ns, sys: 0 ns, total: 0 ns\n",
      "Wall time: 40.8 µs\n"
     ]
    }
   ],
   "source": [
    "%%time\n",
    "serial_result = list(map(lambda x:x**2**2, range(30)))"
   ]
  },
  {
   "cell_type": "code",
   "execution_count": 5,
   "metadata": {
    "ExecuteTime": {
     "end_time": "2017-04-14T12:13:32.813648",
     "start_time": "2017-04-14T14:13:32.670402+02:00"
    },
    "collapsed": false
   },
   "outputs": [
    {
     "name": "stdout",
     "output_type": "stream",
     "text": [
      "CPU times: user 101 ms, sys: 20 ms, total: 121 ms\n",
      "Wall time: 130 ms\n"
     ]
    }
   ],
   "source": [
    "%%time\n",
    "parallel_result = dview.map_sync(lambda x:x**2**2, range(30))"
   ]
  },
  {
   "cell_type": "code",
   "execution_count": 6,
   "metadata": {
    "ExecuteTime": {
     "end_time": "2017-04-14T12:13:32.822204",
     "start_time": "2017-04-14T14:13:32.816976+02:00"
    },
    "collapsed": false
   },
   "outputs": [
    {
     "data": {
      "text/plain": [
       "True"
      ]
     },
     "execution_count": 6,
     "metadata": {},
     "output_type": "execute_result"
    }
   ],
   "source": [
    "serial_result==parallel_result"
   ]
  },
  {
   "cell_type": "markdown",
   "metadata": {},
   "source": [
    "### Remote function decorators"
   ]
  },
  {
   "cell_type": "markdown",
   "metadata": {},
   "source": [
    "Remote functions are just like normal functions, but when they are called, they execute on one or more engines, rather than locally. IPython provides two decorators:"
   ]
  },
  {
   "cell_type": "code",
   "execution_count": 7,
   "metadata": {
    "ExecuteTime": {
     "end_time": "2017-04-14T12:13:32.837339",
     "start_time": "2017-04-14T14:13:32.825121+02:00"
    },
    "collapsed": true
   },
   "outputs": [],
   "source": [
    "@dview.remote(block=True)\n",
    "def getpid():\n",
    "    '''\n",
    "    import library os and return the process number (pid) corresponding with\n",
    "    the execution\n",
    "    '''\n",
    "    import os\n",
    "    return os.getpid()"
   ]
  },
  {
   "cell_type": "code",
   "execution_count": 8,
   "metadata": {
    "ExecuteTime": {
     "end_time": "2017-04-14T12:13:32.881579",
     "start_time": "2017-04-14T14:13:32.839621+02:00"
    },
    "collapsed": false
   },
   "outputs": [
    {
     "data": {
      "text/plain": [
       "[8951, 8950, 8949, 8965]"
      ]
     },
     "execution_count": 8,
     "metadata": {},
     "output_type": "execute_result"
    }
   ],
   "source": [
    "getpid()"
   ]
  },
  {
   "cell_type": "markdown",
   "metadata": {},
   "source": [
    "The ``@parallel`` decorator creates parallel functions, that break up an element-wise operations and distribute them, reconstructing the result."
   ]
  },
  {
   "cell_type": "code",
   "execution_count": 9,
   "metadata": {
    "ExecuteTime": {
     "end_time": "2017-04-14T12:13:32.890420",
     "start_time": "2017-04-14T14:13:32.885761+02:00"
    },
    "collapsed": false
   },
   "outputs": [],
   "source": [
    "import numpy as np\n",
    "A = np.random.random((64,48))"
   ]
  },
  {
   "cell_type": "code",
   "execution_count": 10,
   "metadata": {
    "ExecuteTime": {
     "end_time": "2017-04-14T12:13:32.926998",
     "start_time": "2017-04-14T14:13:32.894337+02:00"
    },
    "collapsed": true
   },
   "outputs": [],
   "source": [
    "@dview.parallel(block=True)\n",
    "def pmul(A,B):\n",
    "    return A*B"
   ]
  },
  {
   "cell_type": "code",
   "execution_count": 11,
   "metadata": {
    "ExecuteTime": {
     "end_time": "2017-04-14T12:13:32.950272",
     "start_time": "2017-04-14T14:13:32.939119+02:00"
    },
    "collapsed": false
   },
   "outputs": [
    {
     "name": "stdout",
     "output_type": "stream",
     "text": [
      "CPU times: user 358 µs, sys: 37 µs, total: 395 µs\n",
      "Wall time: 1.06 ms\n"
     ]
    }
   ],
   "source": [
    "%%time\n",
    "C_local = A*A"
   ]
  },
  {
   "cell_type": "code",
   "execution_count": 12,
   "metadata": {
    "ExecuteTime": {
     "end_time": "2017-04-14T12:13:32.996547",
     "start_time": "2017-04-14T14:13:32.954927+02:00"
    },
    "collapsed": false
   },
   "outputs": [
    {
     "name": "stdout",
     "output_type": "stream",
     "text": [
      "CPU times: user 19.6 ms, sys: 4.36 ms, total: 23.9 ms\n",
      "Wall time: 33.3 ms\n"
     ]
    }
   ],
   "source": [
    "%%time\n",
    "C_remote = pmul(A,A)"
   ]
  },
  {
   "cell_type": "code",
   "execution_count": 13,
   "metadata": {
    "ExecuteTime": {
     "end_time": "2017-04-14T12:13:33.008958",
     "start_time": "2017-04-14T14:13:32.999507+02:00"
    },
    "collapsed": false
   },
   "outputs": [
    {
     "data": {
      "text/plain": [
       "True"
      ]
     },
     "execution_count": 13,
     "metadata": {},
     "output_type": "execute_result"
    }
   ],
   "source": [
    "(C_local == C_remote).all()"
   ]
  },
  {
   "cell_type": "markdown",
   "metadata": {},
   "source": [
    "Calling a ``@parallel`` function does not correspond to map. It is used for splitting element-wise operations that operate on a sequence or array. For ``map`` behaviour, parallel functions do have a map method.\n",
    "\n",
    "|call                |    pfunc(seq)                 |     pfunc.map(seq)\n",
    "|--------------------|-------------------------------|-------------------------------\n",
    "|# of tasks          |    # of engines (1 per engine)|     # of engines (1 per engine)\n",
    "|# of remote calls   |    # of engines (1 per engine)|     ``len(seq)``\n",
    "|argument to remote  |    ``seq[i:j]`` (sub-sequence)|     ``seq[i]`` (single element)\n",
    "\n",
    "A quick example to illustrate the difference in arguments for the two modes:"
   ]
  },
  {
   "cell_type": "code",
   "execution_count": 14,
   "metadata": {
    "ExecuteTime": {
     "end_time": "2017-04-14T12:13:33.038345",
     "start_time": "2017-04-14T14:13:33.019261+02:00"
    },
    "collapsed": true
   },
   "outputs": [],
   "source": [
    "@dview.parallel(block=True)\n",
    "def echo(x):\n",
    "     return str(x)"
   ]
  },
  {
   "cell_type": "code",
   "execution_count": 15,
   "metadata": {
    "ExecuteTime": {
     "end_time": "2017-04-14T12:13:33.110810",
     "start_time": "2017-04-14T14:13:33.044139+02:00"
    },
    "collapsed": false
   },
   "outputs": [
    {
     "data": {
      "text/plain": [
       "['range(0, 2)', 'range(2, 3)', 'range(3, 4)', 'range(4, 5)']"
      ]
     },
     "execution_count": 15,
     "metadata": {},
     "output_type": "execute_result"
    }
   ],
   "source": [
    "echo(range(5))"
   ]
  },
  {
   "cell_type": "code",
   "execution_count": 16,
   "metadata": {
    "ExecuteTime": {
     "end_time": "2017-04-14T12:13:33.171298",
     "start_time": "2017-04-14T14:13:33.115649+02:00"
    },
    "collapsed": false
   },
   "outputs": [
    {
     "data": {
      "text/plain": [
       "['0', '1', '2', '3', '4']"
      ]
     },
     "execution_count": 16,
     "metadata": {},
     "output_type": "execute_result"
    }
   ],
   "source": [
    "echo.map(range(5))"
   ]
  },
  {
   "cell_type": "markdown",
   "metadata": {
    "collapsed": true
   },
   "source": [
    "## Calling Python functions"
   ]
  },
  {
   "cell_type": "markdown",
   "metadata": {},
   "source": [
    "The most basic type of operation that can be performed on the engines is to execute Python code or call Python functions. Executing Python code can be done in blocking or non-blocking mode (non-blocking is default) using the ``View.execute()`` method, and calling functions can be done via the ``View.apply()`` method."
   ]
  },
  {
   "cell_type": "markdown",
   "metadata": {},
   "source": [
    "### apply"
   ]
  },
  {
   "cell_type": "markdown",
   "metadata": {},
   "source": [
    "The main method for doing remote execution (in fact, all methods that communicate with the engines are built on top of it), is ``View.apply()``.\n",
    "\n",
    "```\n",
    "view.apply(f, *args, **kwargs)\n",
    "```\n",
    "\n",
    "available methods:"
   ]
  },
  {
   "cell_type": "code",
   "execution_count": 17,
   "metadata": {
    "ExecuteTime": {
     "end_time": "2017-04-14T12:13:33.189590",
     "start_time": "2017-04-14T14:13:33.178663+02:00"
    },
    "collapsed": false
   },
   "outputs": [
    {
     "data": {
      "text/plain": [
       "['apply', 'apply_async', 'apply_sync']"
      ]
     },
     "execution_count": 17,
     "metadata": {},
     "output_type": "execute_result"
    }
   ],
   "source": [
    "[x for x in dir(dview) if x.startswith('apply')]"
   ]
  },
  {
   "cell_type": "markdown",
   "metadata": {},
   "source": [
    "There are various ways to call functions with IPython, and these flags are set as attributes of the View. The ``DirectView`` has just two of these flags:\n",
    "\n",
    "**dv.block**\n",
    "\n",
    ": bool\n",
    "\n",
    "    whether to wait for the result, or return an AsyncResult object immediately\n",
    "    \n",
    "**dv.track**\n",
    "\n",
    ": bool\n",
    "\n",
    "    whether to instruct pyzmq to track when zeromq is done sending the message. This is primarily useful for non-copying sends of numpy arrays that you plan to edit in-place. You need to know when it becomes safe to edit the buffer without corrupting the message.\n",
    "    \n",
    "**dv.targets**\n",
    "\n",
    ": int, list of ints\n",
    "\n",
    "    which targets this view is associated with."
   ]
  },
  {
   "cell_type": "markdown",
   "metadata": {},
   "source": [
    "### Blocking execution"
   ]
  },
  {
   "cell_type": "markdown",
   "metadata": {},
   "source": [
    "In blocking mode, the ``DirectView`` object (called ``dview`` in these examples) submits the command to the controller, which places the command in the engines’ queues for execution. The ``apply()`` call then blocks until the engines are done executing the command:"
   ]
  },
  {
   "cell_type": "code",
   "execution_count": 18,
   "metadata": {
    "ExecuteTime": {
     "end_time": "2017-04-14T12:13:33.304430",
     "start_time": "2017-04-14T14:13:33.192915+02:00"
    },
    "collapsed": false
   },
   "outputs": [
    {
     "data": {
      "text/plain": [
       "[42, 42, 42, 42]"
      ]
     },
     "execution_count": 18,
     "metadata": {},
     "output_type": "execute_result"
    }
   ],
   "source": [
    "# A DirectView of all engines\n",
    "# in comment, because we did this in the beginning of this notebook\n",
    "#dview = rc[:]\n",
    "dview.block = True\n",
    "dview['a'] = 5\n",
    "dview['b'] = 10\n",
    "dview.apply(lambda x: a+b+x, 27)"
   ]
  },
  {
   "cell_type": "markdown",
   "metadata": {},
   "source": [
    "You can also select blocking execution on a call-by-call basis with the ``apply_sync()`` method:"
   ]
  },
  {
   "cell_type": "code",
   "execution_count": 19,
   "metadata": {
    "ExecuteTime": {
     "end_time": "2017-04-14T12:13:33.355384",
     "start_time": "2017-04-14T14:13:33.317716+02:00"
    },
    "collapsed": false
   },
   "outputs": [
    {
     "data": {
      "text/plain": [
       "[42, 42, 42, 42]"
      ]
     },
     "execution_count": 19,
     "metadata": {},
     "output_type": "execute_result"
    }
   ],
   "source": [
    "dview.block = False\n",
    "dview.apply_sync(lambda x: a+b+x, 27)"
   ]
  },
  {
   "cell_type": "markdown",
   "metadata": {},
   "source": [
    "Python commands can be executed as strings on specific engines by using a View’s ``execute`` method:\n",
    "\n",
    "**check how the view are generated on the Client object (rc) !**"
   ]
  },
  {
   "cell_type": "code",
   "execution_count": 20,
   "metadata": {
    "ExecuteTime": {
     "end_time": "2017-04-14T12:13:33.391675",
     "start_time": "2017-04-14T14:13:33.358104+02:00"
    },
    "collapsed": false
   },
   "outputs": [
    {
     "data": {
      "text/plain": [
       "<AsyncResult: execute>"
      ]
     },
     "execution_count": 20,
     "metadata": {},
     "output_type": "execute_result"
    }
   ],
   "source": [
    "rc[::2].execute('c=a+b')"
   ]
  },
  {
   "cell_type": "code",
   "execution_count": 21,
   "metadata": {
    "ExecuteTime": {
     "end_time": "2017-04-14T12:13:33.411959",
     "start_time": "2017-04-14T14:13:33.405059+02:00"
    },
    "collapsed": false
   },
   "outputs": [
    {
     "data": {
      "text/plain": [
       "<AsyncResult: execute>"
      ]
     },
     "execution_count": 21,
     "metadata": {},
     "output_type": "execute_result"
    }
   ],
   "source": [
    "rc[1::2].execute('c=a-b')"
   ]
  },
  {
   "cell_type": "code",
   "execution_count": 22,
   "metadata": {
    "ExecuteTime": {
     "end_time": "2017-04-14T12:13:33.501826",
     "start_time": "2017-04-14T14:13:33.420774+02:00"
    },
    "collapsed": false
   },
   "outputs": [
    {
     "data": {
      "text/plain": [
       "[15, -5, 15, -5]"
      ]
     },
     "execution_count": 22,
     "metadata": {},
     "output_type": "execute_result"
    }
   ],
   "source": [
    "dview['c'] # shorthand for dview.pull('c', block=True)"
   ]
  },
  {
   "cell_type": "markdown",
   "metadata": {},
   "source": [
    "### Non-blocking execution\n",
    "\n"
   ]
  },
  {
   "cell_type": "markdown",
   "metadata": {},
   "source": [
    "In non-blocking mode, ``apply()`` submits the command to be executed and then returns a ``AsyncResult`` object immediately. The ``AsyncResult`` object gives you a way of getting a result at a later time through its ``get()`` method.\n",
    "\n",
    "More info on the ``AsyncResult`` object:\n",
    "http://ipyparallel.readthedocs.io/en/6.0.2/asyncresult.html#parallel-asyncresult\n",
    "\n",
    "This allows you to quickly submit long running commands without blocking your local Python/IPython session:"
   ]
  },
  {
   "cell_type": "code",
   "execution_count": 23,
   "metadata": {
    "ExecuteTime": {
     "end_time": "2017-04-14T12:13:33.517575",
     "start_time": "2017-04-14T14:13:33.506551+02:00"
    },
    "collapsed": true
   },
   "outputs": [],
   "source": [
    "# define our function\n",
    "def wait(t):\n",
    "    import time\n",
    "    tic = time.time()\n",
    "    time.sleep(t)\n",
    "    return time.time()-tic"
   ]
  },
  {
   "cell_type": "code",
   "execution_count": 24,
   "metadata": {
    "ExecuteTime": {
     "end_time": "2017-04-14T12:13:33.543783",
     "start_time": "2017-04-14T14:13:33.524379+02:00"
    },
    "collapsed": true
   },
   "outputs": [],
   "source": [
    "# In non-blocking mode\n",
    "ar = dview.apply_async(wait, 3)"
   ]
  },
  {
   "cell_type": "code",
   "execution_count": 25,
   "metadata": {
    "ExecuteTime": {
     "end_time": "2017-04-14T12:13:36.555585",
     "start_time": "2017-04-14T14:13:33.548069+02:00"
    },
    "collapsed": false
   },
   "outputs": [
    {
     "data": {
      "text/plain": [
       "[3.003119707107544, 3.003082513809204, 3.003082513809204, 3.0023560523986816]"
      ]
     },
     "execution_count": 25,
     "metadata": {},
     "output_type": "execute_result"
    }
   ],
   "source": [
    "# Now block for the result\n",
    "ar.get()"
   ]
  },
  {
   "cell_type": "code",
   "execution_count": 26,
   "metadata": {
    "ExecuteTime": {
     "end_time": "2017-04-14T12:13:36.565179",
     "start_time": "2017-04-14T14:13:36.557959+02:00"
    },
    "collapsed": true
   },
   "outputs": [],
   "source": [
    "# Again in non-blocking mode\n",
    "ar = dview.apply_async(wait, 10)"
   ]
  },
  {
   "cell_type": "code",
   "execution_count": 29,
   "metadata": {
    "ExecuteTime": {
     "end_time": "2017-04-14T12:13:54.119849",
     "start_time": "2017-04-14T14:13:54.114024+02:00"
    },
    "collapsed": false
   },
   "outputs": [
    {
     "data": {
      "text/plain": [
       "True"
      ]
     },
     "execution_count": 29,
     "metadata": {},
     "output_type": "execute_result"
    }
   ],
   "source": [
    "# Poll to see if the result is ready\n",
    "ar.ready()"
   ]
  },
  {
   "cell_type": "code",
   "execution_count": 30,
   "metadata": {
    "ExecuteTime": {
     "end_time": "2017-04-14T12:13:56.744137",
     "start_time": "2017-04-14T14:13:56.738284+02:00"
    },
    "collapsed": false
   },
   "outputs": [
    {
     "data": {
      "text/plain": [
       "[10.006775617599487,\n",
       " 10.009847164154053,\n",
       " 10.008778810501099,\n",
       " 10.010019063949585]"
      ]
     },
     "execution_count": 30,
     "metadata": {},
     "output_type": "execute_result"
    }
   ],
   "source": [
    "# ask for the result, but wait a maximum of 1 second:\n",
    "ar.get(1)"
   ]
  },
  {
   "cell_type": "markdown",
   "metadata": {},
   "source": [
    "**Note**\n",
    "\n",
    "```\n",
    "Note the import inside the function. This is a common model, to ensure that the appropriate modules are imported where the task is run. You can also manually import modules into the engine(s) namespace(s) via view.execute(‘import numpy’).\n",
    "```\n",
    "\n",
    "Often, it is desirable to wait until a set of ``AsyncResult`` objects are done. For this, there is a the method ``wait()``. This method takes a tuple of ``AsyncResult`` objects (or msg_ids or indices to the client’s History), and blocks until all of the associated results are ready:"
   ]
  },
  {
   "cell_type": "code",
   "execution_count": 31,
   "metadata": {
    "ExecuteTime": {
     "end_time": "2017-04-14T12:14:26.883670",
     "start_time": "2017-04-14T14:13:56.747269+02:00"
    },
    "collapsed": false
   },
   "outputs": [
    {
     "data": {
      "text/plain": [
       "[3.0030548572540283, 3.0030221939086914, 3.001539707183838, 3.003021717071533]"
      ]
     },
     "execution_count": 31,
     "metadata": {},
     "output_type": "execute_result"
    }
   ],
   "source": [
    "dview.block=False\n",
    "# A trivial list of AsyncResults objects\n",
    "pr_list = [dview.apply_async(wait, 3) for i in range(10)]\n",
    "# Wait until all of them are done\n",
    "dview.wait(pr_list)\n",
    "# Then, their results are ready using get() or the `.r` attribute\n",
    "pr_list[0].get()"
   ]
  },
  {
   "cell_type": "markdown",
   "metadata": {},
   "source": [
    "### The block and targets keyword arguments and attributes"
   ]
  },
  {
   "cell_type": "markdown",
   "metadata": {},
   "source": [
    "Most DirectView methods (excluding ``apply()``) accept ``block`` and ``targets`` as keyword arguments. As we have seen above, these keyword arguments control the blocking mode and which engines the command is applied to. The ``View`` class also has ``block`` and ``targets`` attributes that control the default behavior when the keyword arguments are not provided. Thus the following logic is used for ``block`` and ``targets``:\n",
    "\n",
    "- If no keyword argument is provided, the instance attributes are used.\n",
    "- The Keyword arguments, if provided overrides the instance attributes for the duration of a single call.\n",
    "\n",
    "The following examples demonstrate how to use the instance attributes:\n",
    "\n"
   ]
  },
  {
   "cell_type": "code",
   "execution_count": 32,
   "metadata": {
    "ExecuteTime": {
     "end_time": "2017-04-14T12:14:26.903626",
     "start_time": "2017-04-14T14:14:26.885991+02:00"
    },
    "collapsed": false
   },
   "outputs": [
    {
     "data": {
      "text/plain": [
       "[10, 10]"
      ]
     },
     "execution_count": 32,
     "metadata": {},
     "output_type": "execute_result"
    }
   ],
   "source": [
    "dview.targets = [0,2]\n",
    "dview.block = False\n",
    "ar = dview.apply(lambda : 10)\n",
    "ar.get()"
   ]
  },
  {
   "cell_type": "code",
   "execution_count": 33,
   "metadata": {
    "ExecuteTime": {
     "end_time": "2017-04-14T12:14:26.933075",
     "start_time": "2017-04-14T14:14:26.905758+02:00"
    },
    "collapsed": false
   },
   "outputs": [
    {
     "data": {
      "text/plain": [
       "[42, 42, 42, 42]"
      ]
     },
     "execution_count": 33,
     "metadata": {},
     "output_type": "execute_result"
    }
   ],
   "source": [
    "dview.targets = rc.ids # all engines (4)\n",
    "dview.block = True\n",
    "dview.apply(lambda : 42)"
   ]
  },
  {
   "cell_type": "markdown",
   "metadata": {},
   "source": [
    "The ``block`` and ``targets`` instance attributes of the ``DirectView`` also determine the behavior of the parallel magic commands."
   ]
  },
  {
   "cell_type": "markdown",
   "metadata": {},
   "source": [
    "## Moving Python objects around"
   ]
  },
  {
   "cell_type": "markdown",
   "metadata": {},
   "source": [
    "In addition to calling functions and executing code on engines, you can transfer Python objects to and from your IPython session and the engines. In IPython, these operations are called ``push()`` (sending an object to the engines) and ``pull()`` (getting an object from the engines)."
   ]
  },
  {
   "cell_type": "markdown",
   "metadata": {},
   "source": [
    "### basic push and pull"
   ]
  },
  {
   "cell_type": "code",
   "execution_count": 34,
   "metadata": {
    "ExecuteTime": {
     "end_time": "2017-04-14T12:14:26.964809",
     "start_time": "2017-04-14T14:14:26.935541+02:00"
    },
    "collapsed": false
   },
   "outputs": [
    {
     "data": {
      "text/plain": [
       "[None, None, None, None]"
      ]
     },
     "execution_count": 34,
     "metadata": {},
     "output_type": "execute_result"
    }
   ],
   "source": [
    "dview.push(dict(a=1.03234,b=3453))"
   ]
  },
  {
   "cell_type": "code",
   "execution_count": 35,
   "metadata": {
    "ExecuteTime": {
     "end_time": "2017-04-14T12:14:27.008237",
     "start_time": "2017-04-14T14:14:26.967192+02:00"
    },
    "collapsed": false
   },
   "outputs": [
    {
     "data": {
      "text/plain": [
       "[1.03234, 1.03234, 1.03234, 1.03234]"
      ]
     },
     "execution_count": 35,
     "metadata": {},
     "output_type": "execute_result"
    }
   ],
   "source": [
    "dview.pull('a')"
   ]
  },
  {
   "cell_type": "code",
   "execution_count": 36,
   "metadata": {
    "ExecuteTime": {
     "end_time": "2017-04-14T12:14:27.028203",
     "start_time": "2017-04-14T14:14:27.011428+02:00"
    },
    "collapsed": false
   },
   "outputs": [
    {
     "data": {
      "text/plain": [
       "3453"
      ]
     },
     "execution_count": 36,
     "metadata": {},
     "output_type": "execute_result"
    }
   ],
   "source": [
    "dview.pull('b', targets=0)"
   ]
  },
  {
   "cell_type": "code",
   "execution_count": 37,
   "metadata": {
    "ExecuteTime": {
     "end_time": "2017-04-14T12:14:27.098780",
     "start_time": "2017-04-14T14:14:27.033400+02:00"
    },
    "collapsed": false
   },
   "outputs": [
    {
     "data": {
      "text/plain": [
       "[[1.03234, 3453], [1.03234, 3453], [1.03234, 3453], [1.03234, 3453]]"
      ]
     },
     "execution_count": 37,
     "metadata": {},
     "output_type": "execute_result"
    }
   ],
   "source": [
    "dview.pull(('a','b'))"
   ]
  },
  {
   "cell_type": "code",
   "execution_count": 38,
   "metadata": {
    "ExecuteTime": {
     "end_time": "2017-04-14T12:14:27.148533",
     "start_time": "2017-04-14T14:14:27.106500+02:00"
    },
    "collapsed": false
   },
   "outputs": [
    {
     "data": {
      "text/plain": [
       "[None, None, None, None]"
      ]
     },
     "execution_count": 38,
     "metadata": {},
     "output_type": "execute_result"
    }
   ],
   "source": [
    "dview.push(dict(c='speed'))"
   ]
  },
  {
   "cell_type": "markdown",
   "metadata": {},
   "source": [
    "In non-blocking mode ``push()`` and ``pull()`` also return ``AsyncResult`` objects:"
   ]
  },
  {
   "cell_type": "code",
   "execution_count": 39,
   "metadata": {
    "ExecuteTime": {
     "end_time": "2017-04-14T12:14:27.237925",
     "start_time": "2017-04-14T14:14:27.151512+02:00"
    },
    "collapsed": false
   },
   "outputs": [
    {
     "data": {
      "text/plain": [
       "[1.03234, 1.03234, 1.03234, 1.03234]"
      ]
     },
     "execution_count": 39,
     "metadata": {},
     "output_type": "execute_result"
    }
   ],
   "source": [
    "ar = dview.pull('a', block=False)\n",
    "ar.get()"
   ]
  },
  {
   "cell_type": "markdown",
   "metadata": {
    "ExecuteTime": {
     "end_time": "2017-04-05T13:11:54.615712",
     "start_time": "2017-04-05T15:11:54.609546+02:00"
    }
   },
   "source": [
    "### Dictionary interface\n"
   ]
  },
  {
   "cell_type": "markdown",
   "metadata": {},
   "source": [
    "Since a Python namespace is just a ``dict``, ``DirectView`` objects provide dictionary-style access by key and methods such as ``get()`` and ``update()`` for convenience. This make the remote namespaces of the engines appear as a local dictionary. Underneath, these methods call ``apply()``:"
   ]
  },
  {
   "cell_type": "code",
   "execution_count": 40,
   "metadata": {
    "ExecuteTime": {
     "end_time": "2017-04-14T12:14:27.308670",
     "start_time": "2017-04-14T14:14:27.244137+02:00"
    },
    "collapsed": false
   },
   "outputs": [
    {
     "data": {
      "text/plain": [
       "[['foo', 'bar'], ['foo', 'bar'], ['foo', 'bar'], ['foo', 'bar']]"
      ]
     },
     "execution_count": 40,
     "metadata": {},
     "output_type": "execute_result"
    }
   ],
   "source": [
    "dview['a']=['foo','bar']\n",
    "dview['a']"
   ]
  },
  {
   "cell_type": "markdown",
   "metadata": {
    "ExecuteTime": {
     "end_time": "2017-04-05T13:13:02.982767",
     "start_time": "2017-04-05T15:13:02.946680+02:00"
    }
   },
   "source": [
    "### Scatter and gather"
   ]
  },
  {
   "cell_type": "markdown",
   "metadata": {},
   "source": [
    "Sometimes it is useful to partition a sequence and push the partitions to different engines. In MPI language, this is know as scatter/gather and we follow that terminology. However, it is important to remember that in IPython’s Client class, scatter() is from the interactive IPython session to the engines and gather() is from the engines back to the interactive IPython session. For scatter/gather operations between engines, MPI, pyzmq, or some other direct interconnect should be used."
   ]
  },
  {
   "cell_type": "code",
   "execution_count": 41,
   "metadata": {
    "ExecuteTime": {
     "end_time": "2017-04-14T12:14:27.345534",
     "start_time": "2017-04-14T14:14:27.311972+02:00"
    },
    "collapsed": false
   },
   "outputs": [],
   "source": [
    "dview.scatter('a',range(16))"
   ]
  },
  {
   "cell_type": "code",
   "execution_count": 42,
   "metadata": {
    "ExecuteTime": {
     "end_time": "2017-04-14T12:14:27.416150",
     "start_time": "2017-04-14T14:14:27.348574+02:00"
    },
    "collapsed": false
   },
   "outputs": [
    {
     "data": {
      "text/plain": [
       "[range(0, 4), range(4, 8), range(8, 12), range(12, 16)]"
      ]
     },
     "execution_count": 42,
     "metadata": {},
     "output_type": "execute_result"
    }
   ],
   "source": [
    "dview['a']"
   ]
  },
  {
   "cell_type": "code",
   "execution_count": 43,
   "metadata": {
    "ExecuteTime": {
     "end_time": "2017-04-14T12:14:27.476068",
     "start_time": "2017-04-14T14:14:27.426301+02:00"
    },
    "collapsed": false
   },
   "outputs": [
    {
     "data": {
      "text/plain": [
       "[range(0, 4), range(4, 8), range(8, 12), range(12, 16)]"
      ]
     },
     "execution_count": 43,
     "metadata": {},
     "output_type": "execute_result"
    }
   ],
   "source": [
    "dview.gather('a')"
   ]
  },
  {
   "cell_type": "markdown",
   "metadata": {},
   "source": [
    "### AsyncResults have metadata"
   ]
  },
  {
   "cell_type": "code",
   "execution_count": 44,
   "metadata": {
    "ExecuteTime": {
     "end_time": "2017-04-14T12:14:29.511065",
     "start_time": "2017-04-14T14:14:27.479852+02:00"
    },
    "collapsed": false
   },
   "outputs": [
    {
     "data": {
      "text/plain": [
       "[{'after': [],\n",
       "  'completed': datetime.datetime(2017, 4, 14, 12, 14, 29, 489954, tzinfo=tzutc()),\n",
       "  'data': {},\n",
       "  'engine_id': 0,\n",
       "  'engine_uuid': 'b217b20b-b83c62e55cb43cd4818a0f70',\n",
       "  'error': None,\n",
       "  'execute_input': None,\n",
       "  'execute_result': None,\n",
       "  'follow': [],\n",
       "  'msg_id': '385a3eb2-4e87df72f3b6543a4b129b39',\n",
       "  'outputs': [],\n",
       "  'received': datetime.datetime(2017, 4, 14, 12, 14, 29, 500523, tzinfo=tzutc()),\n",
       "  'started': datetime.datetime(2017, 4, 14, 12, 14, 27, 486993, tzinfo=tzutc()),\n",
       "  'status': 'ok',\n",
       "  'stderr': '',\n",
       "  'stdout': '',\n",
       "  'submitted': datetime.datetime(2017, 4, 14, 12, 14, 27, 483044, tzinfo=tzutc())},\n",
       " {'after': [],\n",
       "  'completed': datetime.datetime(2017, 4, 14, 12, 14, 29, 490968, tzinfo=tzutc()),\n",
       "  'data': {},\n",
       "  'engine_id': 1,\n",
       "  'engine_uuid': 'd3ae024d-5f45fb2f78986e1ede3898c5',\n",
       "  'error': None,\n",
       "  'execute_input': None,\n",
       "  'execute_result': None,\n",
       "  'follow': [],\n",
       "  'msg_id': 'a4ac765a-0c3fbfe4046b9a7d1c196169',\n",
       "  'outputs': [],\n",
       "  'received': datetime.datetime(2017, 4, 14, 12, 14, 29, 495983, tzinfo=tzutc()),\n",
       "  'started': datetime.datetime(2017, 4, 14, 12, 14, 27, 487671, tzinfo=tzutc()),\n",
       "  'status': 'ok',\n",
       "  'stderr': '',\n",
       "  'stdout': '',\n",
       "  'submitted': datetime.datetime(2017, 4, 14, 12, 14, 27, 483435, tzinfo=tzutc())},\n",
       " {'after': [],\n",
       "  'completed': datetime.datetime(2017, 4, 14, 12, 14, 29, 488487, tzinfo=tzutc()),\n",
       "  'data': {},\n",
       "  'engine_id': 2,\n",
       "  'engine_uuid': 'b4685946-0badccc0bfcfbd49910aca61',\n",
       "  'error': None,\n",
       "  'execute_input': None,\n",
       "  'execute_result': None,\n",
       "  'follow': [],\n",
       "  'msg_id': 'a1fa5493-74ba2e2c1fd3a6c42b03c862',\n",
       "  'outputs': [],\n",
       "  'received': datetime.datetime(2017, 4, 14, 12, 14, 29, 491267, tzinfo=tzutc()),\n",
       "  'started': datetime.datetime(2017, 4, 14, 12, 14, 27, 486904, tzinfo=tzutc()),\n",
       "  'status': 'ok',\n",
       "  'stderr': '',\n",
       "  'stdout': '',\n",
       "  'submitted': datetime.datetime(2017, 4, 14, 12, 14, 27, 483816, tzinfo=tzutc())},\n",
       " {'after': [],\n",
       "  'completed': datetime.datetime(2017, 4, 14, 12, 14, 29, 492475, tzinfo=tzutc()),\n",
       "  'data': {},\n",
       "  'engine_id': 3,\n",
       "  'engine_uuid': 'ce3bde3b-817352c1a013d10f0558314e',\n",
       "  'error': None,\n",
       "  'execute_input': None,\n",
       "  'execute_result': None,\n",
       "  'follow': [],\n",
       "  'msg_id': '967e63aa-eb68ec1120d1aea568c43357',\n",
       "  'outputs': [],\n",
       "  'received': datetime.datetime(2017, 4, 14, 12, 14, 29, 497947, tzinfo=tzutc()),\n",
       "  'started': datetime.datetime(2017, 4, 14, 12, 14, 27, 489107, tzinfo=tzutc()),\n",
       "  'status': 'ok',\n",
       "  'stderr': '',\n",
       "  'stdout': '',\n",
       "  'submitted': datetime.datetime(2017, 4, 14, 12, 14, 27, 484152, tzinfo=tzutc())}]"
      ]
     },
     "execution_count": 44,
     "metadata": {},
     "output_type": "execute_result"
    }
   ],
   "source": [
    "# In non-blocking mode\n",
    "dview.block = False\n",
    "ar = dview.apply_async(wait, 2)\n",
    "ar.get()\n",
    "ar.metadata"
   ]
  },
  {
   "cell_type": "markdown",
   "metadata": {
    "ExecuteTime": {
     "end_time": "2017-04-05T13:15:49.170257",
     "start_time": "2017-04-05T15:15:49.157191+02:00"
    }
   },
   "source": [
    "## Other things to look at"
   ]
  },
  {
   "cell_type": "markdown",
   "metadata": {},
   "source": [
    "### How to do parallel list comprehensions\n",
    "\n"
   ]
  },
  {
   "cell_type": "markdown",
   "metadata": {},
   "source": [
    "In many cases list comprehensions are nicer than using the map function. While we don’t have fully parallel list comprehensions, it is simple to get the basic effect using scatter() and gather():\n",
    "\n",
    "The %px magic executes a single Python command on the engines specified by the targets attribute of the DirectView instance"
   ]
  },
  {
   "cell_type": "code",
   "execution_count": 45,
   "metadata": {
    "ExecuteTime": {
     "end_time": "2017-04-14T12:14:29.641344",
     "start_time": "2017-04-14T14:14:29.514695+02:00"
    },
    "collapsed": false
   },
   "outputs": [
    {
     "name": "stdout",
     "output_type": "stream",
     "text": [
      "[210832519264920576, 253295162119140625, 303305489096114176, 362033331456891249, 430804206899405824, 511116753300641401, 604661760000000000, 713342911662882601, 839299365868340224, 984930291881790849]\n"
     ]
    }
   ],
   "source": [
    "dview.scatter('x', range(64))\n",
    "#Parallel execution on engines: [0, 1, 2, 3]\n",
    "%px y = [i**10 for i in x]\n",
    "y = dview.gather('y')\n",
    "print(y.get()[-10:])"
   ]
  },
  {
   "cell_type": "markdown",
   "metadata": {
    "ExecuteTime": {
     "end_time": "2017-04-05T13:16:51.477567",
     "start_time": "2017-04-05T15:16:51.440379+02:00"
    }
   },
   "source": [
    "### Remote imports"
   ]
  },
  {
   "cell_type": "markdown",
   "metadata": {
    "ExecuteTime": {
     "end_time": "2017-04-05T13:16:58.515945",
     "start_time": "2017-04-05T15:16:58.485690+02:00"
    }
   },
   "source": [
    "Sometimes you will want to import packages both in your interactive session and on your remote engines. This can be done with the ContextManager created by a DirectView’s sync_imports() method:"
   ]
  },
  {
   "cell_type": "code",
   "execution_count": 46,
   "metadata": {
    "ExecuteTime": {
     "end_time": "2017-04-14T12:14:29.682133",
     "start_time": "2017-04-14T14:14:29.644735+02:00"
    },
    "collapsed": false
   },
   "outputs": [
    {
     "name": "stdout",
     "output_type": "stream",
     "text": [
      "importing numpy on engine(s)\n"
     ]
    }
   ],
   "source": [
    "with dview.sync_imports():\n",
    "    import numpy"
   ]
  },
  {
   "cell_type": "markdown",
   "metadata": {},
   "source": [
    "Any imports made inside the block will also be performed on the view’s engines. sync_imports also takes a local boolean flag that defaults to True, which specifies whether the local imports should also be performed. However, support for local=False has not been implemented, so only packages that can be imported locally will work this way. Note that the usual renaming of the import handle in the same line like in import matplotlib.pyplot as plt’ does not work on the remote engine, the `as plt is ignored remotely, while it executes locally. One could rename the remote handle with %px plt = pyplot though after the import.\n",
    "\n",
    "You can also specify imports via the @require decorator. This is a decorator designed for use in Dependencies, but can be used to handle remote imports as well. Modules or module names passed to @require will be imported before the decorated function is called. If they cannot be imported, the decorated function will never execute and will fail with an UnmetDependencyError. Failures of single Engines will be collected and raise a CompositeError, as demonstrated in the next section."
   ]
  },
  {
   "cell_type": "code",
   "execution_count": 47,
   "metadata": {
    "ExecuteTime": {
     "end_time": "2017-04-14T12:14:29.718478",
     "start_time": "2017-04-14T14:14:29.685543+02:00"
    },
    "collapsed": true
   },
   "outputs": [],
   "source": [
    "from ipyparallel import require"
   ]
  },
  {
   "cell_type": "code",
   "execution_count": 48,
   "metadata": {
    "ExecuteTime": {
     "end_time": "2017-04-14T12:14:29.751313",
     "start_time": "2017-04-14T14:14:29.721849+02:00"
    },
    "collapsed": true
   },
   "outputs": [],
   "source": [
    "@require('re')\n",
    "def findall(pat, x):\n",
    "    # re is guaranteed to be available\n",
    "    return re.findall(pat, x)"
   ]
  },
  {
   "cell_type": "code",
   "execution_count": 49,
   "metadata": {
    "ExecuteTime": {
     "end_time": "2017-04-14T12:14:29.797314",
     "start_time": "2017-04-14T14:14:29.757701+02:00"
    },
    "collapsed": false
   },
   "outputs": [],
   "source": [
    "import time\n",
    "# you can also pass modules themselves, that you already have locally:\n",
    "@require(time)\n",
    "def wait(t):\n",
    "    time.sleep(t)\n",
    "    return t"
   ]
  },
  {
   "cell_type": "markdown",
   "metadata": {},
   "source": [
    "**important note to remember**\n",
    "\n",
    "```\n",
    "sync_imports() does not allow import foo as bar syntax, because the assignment represented by the as bar part is not available to the import hook.\n",
    "```"
   ]
  },
  {
   "cell_type": "markdown",
   "metadata": {},
   "source": [
    "### Parallel exceptions"
   ]
  },
  {
   "cell_type": "markdown",
   "metadata": {},
   "source": [
    "In the multiengine interface, parallel commands can raise Python exceptions, just like serial commands. But it is a little subtle, because a single parallel command can actually raise multiple exceptions (one for each engine the command was run on). To express this idea, we have a CompositeError exception class that will be raised in most cases. The CompositeError class is a special type of exception that wraps one or more other types of exceptions. Here is how it works:"
   ]
  },
  {
   "cell_type": "code",
   "execution_count": 50,
   "metadata": {
    "ExecuteTime": {
     "end_time": "2017-04-14T12:14:30.078166",
     "start_time": "2017-04-14T14:14:29.803350+02:00"
    },
    "collapsed": false
   },
   "outputs": [
    {
     "ename": "CompositeError",
     "evalue": "one or more exceptions from call to method: execute\n[0:execute]: ZeroDivisionError: division by zero\n[1:execute]: ZeroDivisionError: division by zero\n[2:execute]: ZeroDivisionError: division by zero\n[3:execute]: ZeroDivisionError: division by zero",
     "output_type": "error",
     "traceback": [
      "[0:execute]: ",
      "\u001b[0;31m---------------------------------------------------------------------------\u001b[0m\u001b[0;31mZeroDivisionError\u001b[0m                         Traceback (most recent call last)\u001b[0;32m<ipython-input-10-05c9758a9c21>\u001b[0m in \u001b[0;36m<module>\u001b[0;34m()\u001b[0m",
      "\u001b[0;32m----> 1\u001b[0;31m \u001b[0;36m1\u001b[0m\u001b[0;34m/\u001b[0m\u001b[0;36m0\u001b[0m\u001b[0;34m\u001b[0m\u001b[0m",
      "\u001b[0m\u001b[0;31mZeroDivisionError\u001b[0m: division by zero",
      "",
      "[1:execute]: ",
      "\u001b[0;31m---------------------------------------------------------------------------\u001b[0m\u001b[0;31mZeroDivisionError\u001b[0m                         Traceback (most recent call last)\u001b[0;32m<ipython-input-10-05c9758a9c21>\u001b[0m in \u001b[0;36m<module>\u001b[0;34m()\u001b[0m",
      "\u001b[0;32m----> 1\u001b[0;31m \u001b[0;36m1\u001b[0m\u001b[0;34m/\u001b[0m\u001b[0;36m0\u001b[0m\u001b[0;34m\u001b[0m\u001b[0m",
      "\u001b[0m\u001b[0;31mZeroDivisionError\u001b[0m: division by zero",
      "",
      "[2:execute]: ",
      "\u001b[0;31m---------------------------------------------------------------------------\u001b[0m\u001b[0;31mZeroDivisionError\u001b[0m                         Traceback (most recent call last)\u001b[0;32m<ipython-input-10-05c9758a9c21>\u001b[0m in \u001b[0;36m<module>\u001b[0;34m()\u001b[0m",
      "\u001b[0;32m----> 1\u001b[0;31m \u001b[0;36m1\u001b[0m\u001b[0;34m/\u001b[0m\u001b[0;36m0\u001b[0m\u001b[0;34m\u001b[0m\u001b[0m",
      "\u001b[0m\u001b[0;31mZeroDivisionError\u001b[0m: division by zero",
      "",
      "[3:execute]: ",
      "\u001b[0;31m---------------------------------------------------------------------------\u001b[0m\u001b[0;31mZeroDivisionError\u001b[0m                         Traceback (most recent call last)\u001b[0;32m<ipython-input-10-05c9758a9c21>\u001b[0m in \u001b[0;36m<module>\u001b[0;34m()\u001b[0m",
      "\u001b[0;32m----> 1\u001b[0;31m \u001b[0;36m1\u001b[0m\u001b[0;34m/\u001b[0m\u001b[0;36m0\u001b[0m\u001b[0;34m\u001b[0m\u001b[0m",
      "\u001b[0m\u001b[0;31mZeroDivisionError\u001b[0m: division by zero",
      ""
     ]
    }
   ],
   "source": [
    "dview.block = True\n",
    "dview.execute(\"1/0\")"
   ]
  },
  {
   "cell_type": "markdown",
   "metadata": {},
   "source": [
    "Notice how the error message printed when CompositeError is raised has information about the individual exceptions that were raised on each engine. If you want, you can even raise one of these original exceptions:"
   ]
  },
  {
   "cell_type": "code",
   "execution_count": 51,
   "metadata": {
    "ExecuteTime": {
     "end_time": "2017-04-14T12:14:42.435086",
     "start_time": "2017-04-14T14:14:42.393546+02:00"
    },
    "collapsed": false
   },
   "outputs": [
    {
     "ename": "RemoteError",
     "evalue": "ZeroDivisionError(division by zero)",
     "output_type": "error",
     "traceback": [
      "\u001b[0;31m---------------------------------------------------------------------------\u001b[0m\u001b[0;31mZeroDivisionError\u001b[0m                         Traceback (most recent call last)\u001b[0;32m<ipython-input-10-05c9758a9c21>\u001b[0m in \u001b[0;36m<module>\u001b[0;34m()\u001b[0m",
      "\u001b[0;32m----> 1\u001b[0;31m \u001b[0;36m1\u001b[0m\u001b[0;34m/\u001b[0m\u001b[0;36m0\u001b[0m\u001b[0;34m\u001b[0m\u001b[0m",
      "\u001b[0m\u001b[0;31mZeroDivisionError\u001b[0m: division by zero"
     ]
    }
   ],
   "source": [
    "from ipyparallel import CompositeError\n",
    "\n",
    "try:\n",
    "    dview.execute('1/0', block=True)\n",
    "except CompositeError as e:\n",
    "    e.raise_exception()"
   ]
  },
  {
   "cell_type": "markdown",
   "metadata": {},
   "source": [
    "Since you might have 100 engines, you probably don’t want to see 100 tracebacks for a simple NameError because of a typo. For this reason, CompositeError truncates the list of exceptions it will print to CompositeError.tb_limit (default is five). You can change this limit to suit your needs with:"
   ]
  },
  {
   "cell_type": "code",
   "execution_count": 52,
   "metadata": {
    "ExecuteTime": {
     "end_time": "2017-04-14T12:14:43.598854",
     "start_time": "2017-04-14T14:14:43.553064+02:00"
    },
    "collapsed": false
   },
   "outputs": [
    {
     "ename": "CompositeError",
     "evalue": "one or more exceptions from call to method: execute\n[0:execute]: NameError: name 'z' is not defined\n.... 3 more exceptions ...",
     "output_type": "error",
     "traceback": [
      "[0:execute]: ",
      "\u001b[0;31m---------------------------------------------------------------------------\u001b[0m\u001b[0;31mNameError\u001b[0m                                 Traceback (most recent call last)\u001b[0;32m<ipython-input-10-909b6ed53999>\u001b[0m in \u001b[0;36m<module>\u001b[0;34m()\u001b[0m",
      "\u001b[0;32m----> 1\u001b[0;31m \u001b[0mx\u001b[0m\u001b[0;34m=\u001b[0m\u001b[0mz\u001b[0m\u001b[0;34m\u001b[0m\u001b[0m",
      "\u001b[0m\u001b[0;31mNameError\u001b[0m: name 'z' is not defined",
      "",
      "... 3 more exceptions ..."
     ]
    }
   ],
   "source": [
    "from ipyparallel import CompositeError\n",
    "CompositeError.tb_limit = 1\n",
    "%px x=z"
   ]
  },
  {
   "cell_type": "markdown",
   "metadata": {},
   "source": [
    "All of this same error handling magic even works in non-blocking mode:"
   ]
  },
  {
   "cell_type": "code",
   "execution_count": 53,
   "metadata": {
    "ExecuteTime": {
     "end_time": "2017-04-14T12:14:48.227104",
     "start_time": "2017-04-14T14:14:48.188215+02:00"
    },
    "collapsed": false
   },
   "outputs": [
    {
     "ename": "CompositeError",
     "evalue": "one or more exceptions from call to method: execute\n[0:execute]: ZeroDivisionError: division by zero\n.... 3 more exceptions ...",
     "output_type": "error",
     "traceback": [
      "[0:execute]: ",
      "\u001b[0;31m---------------------------------------------------------------------------\u001b[0m\u001b[0;31mZeroDivisionError\u001b[0m                         Traceback (most recent call last)\u001b[0;32m<ipython-input-11-05c9758a9c21>\u001b[0m in \u001b[0;36m<module>\u001b[0;34m()\u001b[0m",
      "\u001b[0;32m----> 1\u001b[0;31m \u001b[0;36m1\u001b[0m\u001b[0;34m/\u001b[0m\u001b[0;36m0\u001b[0m\u001b[0;34m\u001b[0m\u001b[0m",
      "\u001b[0m\u001b[0;31mZeroDivisionError\u001b[0m: division by zero",
      "",
      "... 3 more exceptions ..."
     ]
    }
   ],
   "source": [
    "dview.block=False\n",
    "ar = dview.execute('1/0')\n",
    "ar.get()"
   ]
  },
  {
   "cell_type": "markdown",
   "metadata": {},
   "source": [
    "## example: monte carlo approximation of pi"
   ]
  },
  {
   "cell_type": "markdown",
   "metadata": {},
   "source": [
    "A simple toy problem to get a handle on multiple engines is a Monte Carlo approximation of π.\n",
    "\n",
    "Let’s say we have a dartboard with a round target inscribed on a square board. If you threw darts randomly, and they land evenly distributed on the square board, how many darts would you expect to hit the target?"
   ]
  },
  {
   "cell_type": "markdown",
   "metadata": {
    "ExecuteTime": {
     "end_time": "2017-04-05T14:50:03.101265",
     "start_time": "2017-04-05T16:50:03.095281+02:00"
    }
   },
   "source": [
    "<img src=\"darts.png\">"
   ]
  },
  {
   "cell_type": "code",
   "execution_count": 54,
   "metadata": {
    "ExecuteTime": {
     "end_time": "2017-04-14T12:14:52.679849",
     "start_time": "2017-04-14T14:14:52.651721+02:00"
    },
    "collapsed": true
   },
   "outputs": [],
   "source": [
    "from random import random\n",
    "from math import pi\n",
    "dview['random'] = random"
   ]
  },
  {
   "cell_type": "code",
   "execution_count": 55,
   "metadata": {
    "ExecuteTime": {
     "end_time": "2017-04-14T12:14:53.077784",
     "start_time": "2017-04-14T14:14:53.051915+02:00"
    },
    "collapsed": false
   },
   "outputs": [],
   "source": [
    "def mcpi(nsamples):\n",
    "    s = 0\n",
    "    for i in range(nsamples):\n",
    "        x = random()\n",
    "        y = random()\n",
    "        if x*x + y*y <= 1:\n",
    "            s+=1\n",
    "    return 4.*s/nsamples\n",
    "    \n",
    "def multi_mcpi(view, nsamples):\n",
    "    p = len(view.targets)\n",
    "    if nsamples % p:\n",
    "        # ensure even divisibility\n",
    "        nsamples += p - (nsamples%p)\n",
    "    \n",
    "    subsamples = nsamples//p\n",
    "    \n",
    "    ar = view.apply(mcpi, subsamples)\n",
    "    return sum(ar)/p\n",
    "\n",
    "def check_pi(tol=1e-5, step=10, verbose=False):\n",
    "    guess = 0\n",
    "    spi = pi\n",
    "    steps = 0\n",
    "    while abs(spi-guess)/spi > tol:\n",
    "        for i in range(step):\n",
    "            x = random()\n",
    "            y = random()\n",
    "            if x*x+y*y <= 1:\n",
    "                guess += 4.\n",
    "        steps += step\n",
    "        spi = pi*steps\n",
    "        if verbose:\n",
    "            print(spi, guess, abs(spi-guess)/spi)\n",
    "    return steps, guess/steps"
   ]
  },
  {
   "cell_type": "code",
   "execution_count": 56,
   "metadata": {
    "ExecuteTime": {
     "end_time": "2017-04-14T12:14:57.808677",
     "start_time": "2017-04-14T14:14:54.163237+02:00"
    },
    "collapsed": false
   },
   "outputs": [
    {
     "name": "stdout",
     "output_type": "stream",
     "text": [
      "CPU times: user 3.64 s, sys: 0 ns, total: 3.64 s\n",
      "Wall time: 3.64 s\n"
     ]
    },
    {
     "data": {
      "text/plain": [
       "3.141496"
      ]
     },
     "execution_count": 56,
     "metadata": {},
     "output_type": "execute_result"
    }
   ],
   "source": [
    "%%time\n",
    "mcpi(int(1e7))"
   ]
  },
  {
   "cell_type": "code",
   "execution_count": 57,
   "metadata": {
    "ExecuteTime": {
     "end_time": "2017-04-14T12:14:59.989279",
     "start_time": "2017-04-14T14:14:57.812059+02:00"
    },
    "collapsed": false
   },
   "outputs": [
    {
     "name": "stdout",
     "output_type": "stream",
     "text": [
      "CPU times: user 18.3 ms, sys: 0 ns, total: 18.3 ms\n",
      "Wall time: 2.17 s\n"
     ]
    },
    {
     "data": {
      "text/plain": [
       "3.1414816"
      ]
     },
     "execution_count": 57,
     "metadata": {},
     "output_type": "execute_result"
    }
   ],
   "source": [
    "%%time\n",
    "multi_mcpi(dview, int(1e7))"
   ]
  },
  {
   "cell_type": "code",
   "execution_count": 58,
   "metadata": {
    "ExecuteTime": {
     "end_time": "2017-04-14T12:15:00.047178",
     "start_time": "2017-04-14T14:14:59.992556+02:00"
    },
    "collapsed": false
   },
   "outputs": [
    {
     "data": {
      "text/plain": [
       "(77960, 3.141611082606465)"
      ]
     },
     "execution_count": 58,
     "metadata": {},
     "output_type": "execute_result"
    }
   ],
   "source": [
    "check_pi()"
   ]
  },
  {
   "cell_type": "code",
   "execution_count": null,
   "metadata": {
    "collapsed": true
   },
   "outputs": [],
   "source": []
  }
 ],
 "metadata": {
  "anaconda-cloud": {},
  "hide_input": false,
  "kernelspec": {
   "display_name": "Python [conda env:ipyparallelseminar]",
   "language": "python",
   "name": "conda-env-ipyparallelseminar-py"
  },
  "language_info": {
   "codemirror_mode": {
    "name": "ipython",
    "version": 3
   },
   "file_extension": ".py",
   "mimetype": "text/x-python",
   "name": "python",
   "nbconvert_exporter": "python",
   "pygments_lexer": "ipython3",
   "version": "3.6.1"
  },
  "toc": {
   "toc_cell": true,
   "toc_number_sections": true,
   "toc_section_display": "none",
   "toc_threshold": 6,
   "toc_window_display": true
  },
  "toc_position": {
   "height": "42px",
   "left": "1719.38px",
   "right": "20px",
   "top": "120px",
   "width": "183px"
  }
 },
 "nbformat": 4,
 "nbformat_minor": 2
}
