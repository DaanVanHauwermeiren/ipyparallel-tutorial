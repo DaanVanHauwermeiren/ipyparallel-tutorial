{
 "cells": [
  {
   "cell_type": "markdown",
   "metadata": {
    "toc": "true"
   },
   "source": [
    "# Table of Contents\n",
    " <p><div class=\"lev1\"><a href=\"#examples\"><span class=\"toc-item-num\">1&nbsp;&nbsp;</span>examples</a></div><div class=\"lev2\"><a href=\"#Parallel-options-pricing\"><span class=\"toc-item-num\">1.1&nbsp;&nbsp;</span>Parallel options pricing</a></div><div class=\"lev3\"><a href=\"#Problem-setup\"><span class=\"toc-item-num\">1.1.1&nbsp;&nbsp;</span>Problem setup</a></div><div class=\"lev3\"><a href=\"#Monte-Carlo-option-pricing-function\"><span class=\"toc-item-num\">1.1.2&nbsp;&nbsp;</span>Monte-Carlo option pricing function</a></div><div class=\"lev3\"><a href=\"#Parallel-computation-across-strike-prices-and-volatilities\"><span class=\"toc-item-num\">1.1.3&nbsp;&nbsp;</span>Parallel computation across strike prices and volatilities</a></div><div class=\"lev3\"><a href=\"#Process-and-visualize-results\"><span class=\"toc-item-num\">1.1.4&nbsp;&nbsp;</span>Process and visualize results</a></div>"
   ]
  },
  {
   "cell_type": "markdown",
   "metadata": {},
   "source": [
    "# examples"
   ]
  },
  {
   "cell_type": "markdown",
   "metadata": {},
   "source": [
    "## Parallel options pricing"
   ]
  },
  {
   "cell_type": "markdown",
   "metadata": {},
   "source": [
    "An option is a financial contract that gives the buyer of the contract the right to buy (a “call”) or sell (a “put”) a secondary asset (a stock for example) at a particular date in the future (the expiration date) for a pre-agreed upon price (the strike price). For this right, the buyer pays the seller a premium (the option price). There are a wide variety of flavors of options (American, European, Asian, etc.) that are useful for different purposes: hedging against risk, speculation, etc.\n",
    "\n",
    "Much of modern finance is driven by the need to price these contracts accurately based on what is known about the properties (such as volatility) of the underlying asset. One method of pricing options is to use a Monte Carlo simulation of the underlying asset price. In this example we use this approach to price both European and Asian (path dependent) options for various strike prices and volatilities."
   ]
  },
  {
   "cell_type": "markdown",
   "metadata": {},
   "source": [
    "### Problem setup"
   ]
  },
  {
   "cell_type": "code",
   "execution_count": 1,
   "metadata": {
    "ExecuteTime": {
     "end_time": "2017-04-05T21:52:02.849241",
     "start_time": "2017-04-05T23:52:02.546138+02:00"
    },
    "collapsed": false
   },
   "outputs": [],
   "source": [
    "from __future__ import print_function # legacy Python support\n",
    "%matplotlib inline\n",
    "import matplotlib.pyplot as plt\n",
    "import sys\n",
    "import time\n",
    "import numpy as np"
   ]
  },
  {
   "cell_type": "markdown",
   "metadata": {},
   "source": [
    "Here are the basic parameters for our computation"
   ]
  },
  {
   "cell_type": "code",
   "execution_count": 2,
   "metadata": {
    "ExecuteTime": {
     "end_time": "2017-04-05T21:52:02.860643",
     "start_time": "2017-04-05T23:52:02.851294+02:00"
    },
    "collapsed": true
   },
   "outputs": [],
   "source": [
    "price = 100.0  # Initial price\n",
    "rate = 0.05  # Interest rate\n",
    "days = 260  # Days to expiration\n",
    "paths = 10000  # Number of MC paths\n",
    "n_strikes = 10 #6  # Number of strike values\n",
    "min_strike = 90.0  # Min strike price\n",
    "max_strike = 110.0  # Max strike price\n",
    "n_sigmas = 10 #5  # Number of volatility values\n",
    "min_sigma = 0.1  # Min volatility\n",
    "max_sigma = 0.4  # Max volatility"
   ]
  },
  {
   "cell_type": "code",
   "execution_count": 3,
   "metadata": {
    "ExecuteTime": {
     "end_time": "2017-04-05T21:52:02.899852",
     "start_time": "2017-04-05T23:52:02.866176+02:00"
    },
    "collapsed": true
   },
   "outputs": [],
   "source": [
    "strike_vals = np.linspace(min_strike, max_strike, n_strikes)\n",
    "sigma_vals = np.linspace(min_sigma, max_sigma, n_sigmas)"
   ]
  },
  {
   "cell_type": "code",
   "execution_count": 4,
   "metadata": {
    "ExecuteTime": {
     "end_time": "2017-04-05T21:52:02.925936",
     "start_time": "2017-04-05T23:52:02.905407+02:00"
    },
    "collapsed": false
   },
   "outputs": [
    {
     "name": "stdout",
     "output_type": "stream",
     "text": [
      "Strike prices:  [  90.           92.22222222   94.44444444   96.66666667   98.88888889\n",
      "  101.11111111  103.33333333  105.55555556  107.77777778  110.        ]\n",
      "Volatilities:  [ 0.1         0.13333333  0.16666667  0.2         0.23333333  0.26666667\n",
      "  0.3         0.33333333  0.36666667  0.4       ]\n"
     ]
    }
   ],
   "source": [
    "print(\"Strike prices: \", strike_vals)\n",
    "print(\"Volatilities: \", sigma_vals)"
   ]
  },
  {
   "cell_type": "markdown",
   "metadata": {},
   "source": [
    "### Monte-Carlo option pricing function\n",
    "\n",
    "The following function computes the price of a single option. It returns the call and put prices for both European and Asian style options."
   ]
  },
  {
   "cell_type": "code",
   "execution_count": 5,
   "metadata": {
    "ExecuteTime": {
     "end_time": "2017-04-05T21:52:02.995904",
     "start_time": "2017-04-05T23:52:02.929768+02:00"
    },
    "collapsed": true
   },
   "outputs": [],
   "source": [
    "def price_option(S=100.0, K=100.0, sigma=0.25, r=0.05, days=260, paths=10000):\n",
    "    \"\"\"\n",
    "    Price European and Asian options using a Monte Carlo method.\n",
    "\n",
    "    Parameters\n",
    "    ----------\n",
    "    S : float\n",
    "        The initial price of the stock.\n",
    "    K : float\n",
    "        The strike price of the option.\n",
    "    sigma : float\n",
    "        The volatility of the stock.\n",
    "    r : float\n",
    "        The risk free interest rate.\n",
    "    days : int\n",
    "        The number of days until the option expires.\n",
    "    paths : int\n",
    "        The number of Monte Carlo paths used to price the option.\n",
    "\n",
    "    Returns\n",
    "    -------\n",
    "    A tuple of (E. call, E. put, A. call, A. put) option prices.\n",
    "    \"\"\"\n",
    "    import numpy as np\n",
    "    from math import exp,sqrt\n",
    "    \n",
    "    h = 1.0/days\n",
    "    const1 = exp((r-0.5*sigma**2)*h)\n",
    "    const2 = sigma*sqrt(h)\n",
    "    stock_price = S*np.ones(paths, dtype='float64')\n",
    "    stock_price_sum = np.zeros(paths, dtype='float64')\n",
    "    for j in range(days):\n",
    "        growth_factor = const1*np.exp(const2*np.random.standard_normal(paths))\n",
    "        stock_price = stock_price*growth_factor\n",
    "        stock_price_sum = stock_price_sum + stock_price\n",
    "    stock_price_avg = stock_price_sum/days\n",
    "    zeros = np.zeros(paths, dtype='float64')\n",
    "    r_factor = exp(-r*h*days)\n",
    "    euro_put = r_factor*np.mean(np.maximum(zeros, K-stock_price))\n",
    "    asian_put = r_factor*np.mean(np.maximum(zeros, K-stock_price_avg))\n",
    "    euro_call = r_factor*np.mean(np.maximum(zeros, stock_price-K))\n",
    "    asian_call = r_factor*np.mean(np.maximum(zeros, stock_price_avg-K))\n",
    "    return (euro_call, euro_put, asian_call, asian_put)"
   ]
  },
  {
   "cell_type": "markdown",
   "metadata": {},
   "source": [
    "We can time a single call of this function using the %timeit magic:"
   ]
  },
  {
   "cell_type": "code",
   "execution_count": 6,
   "metadata": {
    "ExecuteTime": {
     "end_time": "2017-04-05T21:52:03.352100",
     "start_time": "2017-04-05T23:52:03.001626+02:00"
    },
    "collapsed": false
   },
   "outputs": [
    {
     "name": "stdout",
     "output_type": "stream",
     "text": [
      "CPU times: user 315 ms, sys: 3.4 ms, total: 319 ms\n",
      "Wall time: 332 ms\n"
     ]
    },
    {
     "data": {
      "text/plain": [
       "(12.41573744000946, 7.3000973054678475, 6.9246630947265038, 4.3366021448676415)"
      ]
     },
     "execution_count": 6,
     "metadata": {},
     "output_type": "execute_result"
    }
   ],
   "source": [
    "%time result = price_option(S=100.0, K=100.0, sigma=0.25, r=0.05, days=260, paths=10000)\n",
    "result"
   ]
  },
  {
   "cell_type": "markdown",
   "metadata": {},
   "source": [
    "### Parallel computation across strike prices and volatilities\n",
    "\n",
    "The Client is used to setup the calculation and works with all engines."
   ]
  },
  {
   "cell_type": "code",
   "execution_count": 7,
   "metadata": {
    "ExecuteTime": {
     "end_time": "2017-04-05T21:52:03.394163",
     "start_time": "2017-04-05T23:52:03.359924+02:00"
    },
    "collapsed": false
   },
   "outputs": [],
   "source": [
    "import ipyparallel as ipp\n",
    "rc = ipp.Client(profile='parallel-examples')"
   ]
  },
  {
   "cell_type": "markdown",
   "metadata": {},
   "source": [
    "\n",
    "A LoadBalancedView is an interface to the engines that provides dynamic load balancing at the expense of not knowing which engine will execute the code."
   ]
  },
  {
   "cell_type": "code",
   "execution_count": 8,
   "metadata": {
    "ExecuteTime": {
     "end_time": "2017-04-05T21:52:03.422688",
     "start_time": "2017-04-05T23:52:03.405520+02:00"
    },
    "collapsed": true
   },
   "outputs": [],
   "source": [
    "view = rc.load_balanced_view()"
   ]
  },
  {
   "cell_type": "markdown",
   "metadata": {},
   "source": [
    "Submit tasks for each (strike, sigma) pair. Again, we use the %%timeit magic to time the entire computation."
   ]
  },
  {
   "cell_type": "code",
   "execution_count": 9,
   "metadata": {
    "ExecuteTime": {
     "end_time": "2017-04-05T21:52:03.449319",
     "start_time": "2017-04-05T23:52:03.432123+02:00"
    },
    "collapsed": true
   },
   "outputs": [],
   "source": [
    "async_results = []"
   ]
  },
  {
   "cell_type": "code",
   "execution_count": 10,
   "metadata": {
    "ExecuteTime": {
     "end_time": "2017-04-05T21:52:13.135472",
     "start_time": "2017-04-05T23:52:03.457646+02:00"
    },
    "collapsed": false
   },
   "outputs": [
    {
     "name": "stdout",
     "output_type": "stream",
     "text": [
      "CPU times: user 604 ms, sys: 17.4 ms, total: 621 ms\n",
      "Wall time: 9.67 s\n"
     ]
    }
   ],
   "source": [
    "%%time\n",
    "\n",
    "for strike in strike_vals:\n",
    "    for sigma in sigma_vals:\n",
    "        # This line submits the tasks for parallel computation.\n",
    "        ar = view.apply_async(price_option, price, strike, sigma, rate, days, paths)\n",
    "        async_results.append(ar)\n",
    "\n",
    "rc.wait(async_results)  # Wait until all tasks are done."
   ]
  },
  {
   "cell_type": "code",
   "execution_count": 11,
   "metadata": {
    "ExecuteTime": {
     "end_time": "2017-04-05T21:52:13.147785",
     "start_time": "2017-04-05T23:52:13.139240+02:00"
    },
    "collapsed": false
   },
   "outputs": [
    {
     "data": {
      "text/plain": [
       "100"
      ]
     },
     "execution_count": 11,
     "metadata": {},
     "output_type": "execute_result"
    }
   ],
   "source": [
    "len(async_results)"
   ]
  },
  {
   "cell_type": "markdown",
   "metadata": {},
   "source": [
    "### Process and visualize results\n",
    "\n",
    "Retrieve the results using the get method:"
   ]
  },
  {
   "cell_type": "code",
   "execution_count": 12,
   "metadata": {
    "ExecuteTime": {
     "end_time": "2017-04-05T21:52:13.164129",
     "start_time": "2017-04-05T23:52:13.151719+02:00"
    },
    "collapsed": false
   },
   "outputs": [],
   "source": [
    "results = [ar.get() for ar in async_results]"
   ]
  },
  {
   "cell_type": "markdown",
   "metadata": {},
   "source": [
    "Assemble the result into a structured NumPy array."
   ]
  },
  {
   "cell_type": "code",
   "execution_count": 13,
   "metadata": {
    "ExecuteTime": {
     "end_time": "2017-04-05T21:52:13.190737",
     "start_time": "2017-04-05T23:52:13.174868+02:00"
    },
    "collapsed": false
   },
   "outputs": [],
   "source": [
    "prices = np.empty(n_strikes*n_sigmas,\n",
    "    dtype=[('ecall',float),('eput',float),('acall',float),('aput',float)]\n",
    ")\n",
    "\n",
    "for i, price in enumerate(results):\n",
    "    prices[i] = tuple(price)\n",
    "\n",
    "prices.shape = (n_strikes, n_sigmas)"
   ]
  },
  {
   "cell_type": "markdown",
   "metadata": {},
   "source": [
    "Plot the values of the European call in (volatility, strike) space."
   ]
  },
  {
   "cell_type": "code",
   "execution_count": 14,
   "metadata": {
    "ExecuteTime": {
     "end_time": "2017-04-05T21:52:13.639783",
     "start_time": "2017-04-05T23:52:13.194693+02:00"
    },
    "collapsed": false
   },
   "outputs": [
    {
     "data": {
      "text/plain": [
       "<matplotlib.text.Text at 0x7fba36ca16a0>"
      ]
     },
     "execution_count": 14,
     "metadata": {},
     "output_type": "execute_result"
    },
    {
     "data": {
      "image/png": "[encoded data removed]",
      "text/plain": [
       "<matplotlib.figure.Figure at 0x7fba36c72be0>"
      ]
     },
     "metadata": {},
     "output_type": "display_data"
    }
   ],
   "source": [
    "plt.figure()\n",
    "plt.contourf(sigma_vals, strike_vals, prices['ecall'])\n",
    "plt.axis('tight')\n",
    "plt.colorbar()\n",
    "plt.title('European Call')\n",
    "plt.xlabel(\"Volatility\")\n",
    "plt.ylabel(\"Strike Price\")"
   ]
  },
  {
   "cell_type": "code",
   "execution_count": null,
   "metadata": {
    "collapsed": true
   },
   "outputs": [],
   "source": []
  }
 ],
 "metadata": {
  "anaconda-cloud": {},
  "hide_input": false,
  "kernelspec": {
   "display_name": "Python [conda env:ipyparallelseminar]",
   "language": "python",
   "name": "conda-env-ipyparallelseminar-py"
  },
  "language_info": {
   "codemirror_mode": {
    "name": "ipython",
    "version": 3
   },
   "file_extension": ".py",
   "mimetype": "text/x-python",
   "name": "python",
   "nbconvert_exporter": "python",
   "pygments_lexer": "ipython3",
   "version": "3.6.1"
  },
  "toc": {
   "toc_cell": true,
   "toc_number_sections": true,
   "toc_threshold": 6,
   "toc_window_display": true
  }
 },
 "nbformat": 4,
 "nbformat_minor": 2
}
