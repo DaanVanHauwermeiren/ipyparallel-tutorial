{
 "cells": [
  {
   "cell_type": "markdown",
   "metadata": {
    "toc": "true"
   },
   "source": [
    "# Table of Contents\n",
    " <p><div class=\"lev1\"><a href=\"#The-AsyncResult-object\"><span class=\"toc-item-num\">1&nbsp;&nbsp;</span>The AsyncResult object</a></div><div class=\"lev2\"><a href=\"#Beyond-multiprocessing’s-AsyncResult\"><span class=\"toc-item-num\">1.1&nbsp;&nbsp;</span>Beyond multiprocessing’s AsyncResult</a></div><div class=\"lev3\"><a href=\"#get_dict\"><span class=\"toc-item-num\">1.1.1&nbsp;&nbsp;</span>get_dict</a></div><div class=\"lev2\"><a href=\"#Metadata\"><span class=\"toc-item-num\">1.2&nbsp;&nbsp;</span>Metadata</a></div><div class=\"lev3\"><a href=\"#Timing\"><span class=\"toc-item-num\">1.2.1&nbsp;&nbsp;</span>Timing</a></div><div class=\"lev2\"><a href=\"#Map-results-are-iterable!\"><span class=\"toc-item-num\">1.3&nbsp;&nbsp;</span>Map results are iterable!</a></div>"
   ]
  },
  {
   "cell_type": "code",
   "execution_count": null,
   "metadata": {
    "ExecuteTime": {
     "end_time": "2017-04-05T21:21:53.964720",
     "start_time": "2017-04-05T23:21:53.942010+02:00"
    },
    "collapsed": true
   },
   "outputs": [],
   "source": [
    "from ipyparallel import Client\n",
    "import os\n",
    "import numpy as np\n",
    "from math import sqrt\n",
    "from functools import reduce\n",
    "rc = Client(profile='asyncresult-object')"
   ]
  },
  {
   "cell_type": "markdown",
   "metadata": {},
   "source": [
    "# The AsyncResult object\n"
   ]
  },
  {
   "cell_type": "markdown",
   "metadata": {},
   "source": [
    "In non-blocking mode, apply() submits the command to be executed and then returns a AsyncResult object immediately. The AsyncResult object gives you a way of getting a result at a later time through its get() method, but it also collects metadata on execution."
   ]
  },
  {
   "cell_type": "markdown",
   "metadata": {},
   "source": [
    "## Beyond multiprocessing’s AsyncResult\n",
    "\n",
    "**Note:**\n",
    "\n",
    "    The AsyncResult object provides a superset of the interface in multiprocessing.pool.AsyncResult. See the official Python documentation for more on the basics of this interface.\n",
    "    \n",
    "The AsyncResult objects add a number of convenient features for working with parallel results, beyond what is provided by the original AsyncResult."
   ]
  },
  {
   "cell_type": "markdown",
   "metadata": {},
   "source": [
    "### get_dict"
   ]
  },
  {
   "cell_type": "markdown",
   "metadata": {},
   "source": [
    "First, is AsyncResult.get_dict(), which pulls results as a dictionary keyed by engine_id, rather than a flat list. This is useful for quickly coordinating or distributing information about all of the engines.\n",
    "\n",
    "As an example, here is a quick call that gives every engine a dict showing the PID of every other engine:"
   ]
  },
  {
   "cell_type": "code",
   "execution_count": null,
   "metadata": {
    "ExecuteTime": {
     "end_time": "2017-04-05T21:11:08.166296",
     "start_time": "2017-04-05T23:11:07.918533+02:00"
    },
    "collapsed": false
   },
   "outputs": [],
   "source": [
    "ar = rc[:].apply_async(os.getpid)\n",
    "pids = ar.get_dict()\n",
    "rc[:]['pid_map'] = pids"
   ]
  },
  {
   "cell_type": "markdown",
   "metadata": {
    "ExecuteTime": {
     "end_time": "2017-04-05T21:13:29.656535",
     "start_time": "2017-04-05T23:13:29.614108+02:00"
    }
   },
   "source": [
    "##  Metadata"
   ]
  },
  {
   "cell_type": "markdown",
   "metadata": {},
   "source": [
    "ipyparallel tracks some metadata about the tasks, which is stored in the Client.metadata dict. The AsyncResult object gives you an interface for this information as well, including timestamps stdout/err, and engine IDs."
   ]
  },
  {
   "cell_type": "markdown",
   "metadata": {},
   "source": [
    "### Timing"
   ]
  },
  {
   "cell_type": "markdown",
   "metadata": {},
   "source": [
    "IPython tracks various timestamps as datetime objects, and the AsyncResult object has a few properties that turn these into useful times (in seconds as floats).\n",
    "\n",
    "For use while the tasks are still pending:\n",
    "\n",
    "- ar.elapsed is just the elapsed seconds since submission, for use before the AsyncResult is complete.\n",
    "- ar.progress is the number of tasks that have completed. Fractional progress would be:\n",
    "\n",
    "    1.0 * ar.progress / len(ar)\n",
    "- AsyncResult.wait_interactive() will wait for the result to finish, but print out status updates on progress and elapsed time while it waits.\n",
    "\n",
    "For use after the tasks are done:\n",
    "\n",
    "- ar.serial_time is the sum of the computation time of all of the tasks done in parallel.\n",
    "- ar.wall_time is the time between the first task submitted and last result received. This is the actual cost of computation, including IPython overhead.\n",
    "\n",
    "**Note:**\n",
    "\n",
    "    wall_time is only precise if the Client is waiting for results when the task finished, because the received timestamp is made when the result is unpacked by the Client, triggered by the spin() call. If you are doing work in the Client, and not waiting/spinning, then received might be artificially high.\n",
    "\n",
    "An often interesting metric is the time it actually cost to do the work in parallel relative to the serial computation, and this can be given simply with\n",
    "\n",
    "    speedup = ar.serial_time / ar.wall_time"
   ]
  },
  {
   "cell_type": "markdown",
   "metadata": {},
   "source": [
    "## Map results are iterable!\n",
    "\n"
   ]
  },
  {
   "cell_type": "markdown",
   "metadata": {},
   "source": [
    "When an AsyncResult object has multiple results (e.g. the AsyncMapResult object), you can actually iterate through results themselves, and act on them as they arrive:"
   ]
  },
  {
   "cell_type": "code",
   "execution_count": null,
   "metadata": {
    "ExecuteTime": {
     "end_time": "2017-04-05T21:17:41.311961",
     "start_time": "2017-04-05T23:16:58.185860+02:00"
    },
    "collapsed": false
   },
   "outputs": [],
   "source": [
    "import time\n",
    "\n",
    "import ipyparallel as ipp\n",
    "\n",
    "# create client & view\n",
    "#rc = ipp.Client()\n",
    "dv = rc[:]\n",
    "v = rc.load_balanced_view()\n",
    "\n",
    "# scatter 'id', so id=0,1,2 on engines 0,1,2\n",
    "dv.scatter('id', rc.ids, flatten=True)\n",
    "print(\"Engine IDs: \", dv['id'])\n",
    "\n",
    "# create a Reference to `id`. This will be a different value on each engine\n",
    "ref = ipp.Reference('id')\n",
    "print(\"sleeping for `id` seconds on each engine\")\n",
    "tic = time.time()\n",
    "ar = dv.apply(time.sleep, ref)\n",
    "for i,r in enumerate(ar):\n",
    "    print(\"%i: %.3f\"%(i, time.time()-tic))\n",
    "\n",
    "def sleep_here(t):\n",
    "    import time\n",
    "    time.sleep(t)\n",
    "    return id,t\n",
    "\n",
    "# one call per task\n",
    "print(\"running with one call per task\")\n",
    "amr = v.map(sleep_here, [.01*t for t in range(100)])\n",
    "tic = time.time()\n",
    "for i,r in enumerate(amr):\n",
    "    print(\"task %i on engine %i: %.3f\" % (i, r[0], time.time()-tic))\n",
    "\n",
    "print(\"running with four calls per task\")\n",
    "# with chunksize, we can have four calls per task\n",
    "amr = v.map(sleep_here, [.01*t for t in range(100)], chunksize=4)\n",
    "tic = time.time()\n",
    "for i,r in enumerate(amr):\n",
    "    print(\"task %i on engine %i: %.3f\" % (i, r[0], time.time()-tic))\n",
    "\n",
    "print(\"running with two calls per task, with unordered results\")\n",
    "# We can even iterate through faster results first, with ordered=False\n",
    "amr = v.map(sleep_here, [.01*t for t in range(100,0,-1)], ordered=False, chunksize=2)\n",
    "tic = time.time()\n",
    "for i,r in enumerate(amr):\n",
    "    print(\"slept %.2fs on engine %i: %.3f\" % (r[1], r[0], time.time()-tic))"
   ]
  },
  {
   "cell_type": "markdown",
   "metadata": {},
   "source": [
    "That is to say, if you treat an AsyncMapResult as if it were a list of your actual results, it should behave as you would expect, with the only difference being that you can start iterating through the results before they have even been computed.\n",
    "\n",
    "This lets you do a dumb version of map/reduce with the builtin Python functions, and the only difference between doing this locally and doing it remotely in parallel is using the asynchronous view.map instead of the builtin map.\n",
    "\n",
    "Here is a simple one-line RMS (root-mean-square) implemented with Python’s builtin map/reduce."
   ]
  },
  {
   "cell_type": "code",
   "execution_count": null,
   "metadata": {
    "ExecuteTime": {
     "end_time": "2017-04-05T21:22:31.922966",
     "start_time": "2017-04-05T23:22:31.918085+02:00"
    },
    "collapsed": false
   },
   "outputs": [],
   "source": [
    "lview = rc.load_balanced_view()\n",
    "X = np.linspace(0,100)\n",
    "add = lambda a,b: a+b\n",
    "sq = lambda x: x*x"
   ]
  },
  {
   "cell_type": "code",
   "execution_count": null,
   "metadata": {
    "ExecuteTime": {
     "end_time": "2017-04-05T21:22:32.644578",
     "start_time": "2017-04-05T23:22:32.638086+02:00"
    },
    "collapsed": false
   },
   "outputs": [],
   "source": [
    "sqrt(reduce(add, map(sq, X)) / len(X))"
   ]
  },
  {
   "cell_type": "code",
   "execution_count": null,
   "metadata": {
    "ExecuteTime": {
     "end_time": "2017-04-05T21:22:33.720271",
     "start_time": "2017-04-05T23:22:33.166093+02:00"
    },
    "collapsed": false
   },
   "outputs": [],
   "source": [
    "sqrt(reduce(add, lview.map(sq, X)) / len(X))"
   ]
  },
  {
   "cell_type": "markdown",
   "metadata": {},
   "source": [
    "To break that down:\n",
    "\n",
    "- map(sq, X) Compute the square of each element in the list (locally, or in parallel)\n",
    "- reduce(add, sqX) / len(X) compute the mean by summing over the list (or AsyncMapResult) and dividing by the size\n",
    "- take the square root of the resulting number\n",
    "\n",
    "**See also**\n",
    "\n",
    "    When AsyncResult or the AsyncMapResult don’t provide what you need (for instance, handling individual results as they arrive, but with metadata), you can always just split the original result’s msg_ids attribute, and handle them as you like."
   ]
  },
  {
   "cell_type": "code",
   "execution_count": null,
   "metadata": {
    "collapsed": true
   },
   "outputs": [],
   "source": []
  }
 ],
 "metadata": {
  "anaconda-cloud": {},
  "hide_input": false,
  "kernelspec": {
   "display_name": "Python [conda env:ipyparallelseminar]",
   "language": "python",
   "name": "conda-env-ipyparallelseminar-py"
  },
  "language_info": {
   "codemirror_mode": {
    "name": "ipython",
    "version": 3
   },
   "file_extension": ".py",
   "mimetype": "text/x-python",
   "name": "python",
   "nbconvert_exporter": "python",
   "pygments_lexer": "ipython3",
   "version": "3.6.1"
  },
  "toc": {
   "toc_cell": true,
   "toc_number_sections": true,
   "toc_threshold": 6,
   "toc_window_display": true
  }
 },
 "nbformat": 4,
 "nbformat_minor": 2
}
